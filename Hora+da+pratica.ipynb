{
  "cells": [
    {
      "cell_type": "markdown",
      "metadata": {
        "id": "view-in-github",
        "colab_type": "text"
      },
      "source": [
        "<a href=\"https://colab.research.google.com/github/lalamorCampello/Python-para-Data-Science-primeiros-passos/blob/main/Hora%2Bda%2Bpratica.ipynb\" target=\"_parent\"><img src=\"https://colab.research.google.com/assets/colab-badge.svg\" alt=\"Open In Colab\"/></a>"
      ]
    },
    {
      "cell_type": "markdown",
      "metadata": {
        "id": "_kwAaQ36gLQ1"
      },
      "source": [
        "# Sobre o notebook\n",
        "\n",
        "A \"hora da prática\" é uma atividade do curso de Python para Data Science da Alura que contém diversos desafios envolvendo os aprendizados de cada aula.\n",
        "\n",
        "O notebook \"hora da pratica\" é um notebook construído com espaço para as células dos desafios propostos no curso, com ele você tem espaço para construir e executar suas soluções"
      ]
    },
    {
      "cell_type": "markdown",
      "metadata": {
        "id": "Mc-KN0dA0Z83"
      },
      "source": [
        "## Aula 1 - Introdução ao Python"
      ]
    },
    {
      "cell_type": "markdown",
      "metadata": {
        "id": "l5eLWf0W0ikn"
      },
      "source": [
        "### Questão 1\n",
        "\n",
        "Imprima a frase `Escola de Dados da Alura!`"
      ]
    },
    {
      "cell_type": "code",
      "execution_count": null,
      "metadata": {
        "id": "5pllxJ0h0-yA",
        "colab": {
          "base_uri": "https://localhost:8080/"
        },
        "outputId": "9775f052-5e0f-4c9a-a95f-8e15e1194346"
      },
      "outputs": [
        {
          "output_type": "stream",
          "name": "stdout",
          "text": [
            "Escola de Dados da Alura!\n"
          ]
        }
      ],
      "source": [
        "print(\"Escola de Dados da Alura!\")"
      ]
    },
    {
      "cell_type": "markdown",
      "metadata": {
        "id": "tQdX90Ue03c7"
      },
      "source": [
        "### Questão 2\n",
        "Imprima na tela seu nome e seu sobrenome seguindo a estrutura abaixo:\n",
        "```\n",
        "Nome: [seu nome]\n",
        "Sobrenome: [seu sobrenome]\n",
        "```\n"
      ]
    },
    {
      "cell_type": "code",
      "execution_count": null,
      "metadata": {
        "id": "RVw5iKn20_Ps",
        "colab": {
          "base_uri": "https://localhost:8080/"
        },
        "outputId": "0727f82c-1cf3-48e5-cf3e-5fd7e113e536"
      },
      "outputs": [
        {
          "output_type": "stream",
          "name": "stdout",
          "text": [
            "Nome: Lara\n",
            "Sobrenome: Campello\n"
          ]
        }
      ],
      "source": [
        "print(\"Nome: Lara\")\n",
        "print(\"Sobrenome: Campello\")"
      ]
    },
    {
      "cell_type": "markdown",
      "metadata": {
        "id": "gfg-aiip03vC"
      },
      "source": [
        "### Questão 3\n",
        "Imprima o seu primeiro nome letra a letra. Por exemplo, nome é Mirla, então eu obtenho a seguinte saída:\n",
        "```\n",
        "M\n",
        "I\n",
        "R\n",
        "L\n",
        "A\n",
        "```\n"
      ]
    },
    {
      "cell_type": "code",
      "execution_count": null,
      "metadata": {
        "id": "v5bkrgf60_qx",
        "colab": {
          "base_uri": "https://localhost:8080/"
        },
        "outputId": "8f76d76f-6325-4a18-8e1f-ccb8f3da86a0"
      },
      "outputs": [
        {
          "output_type": "stream",
          "name": "stdout",
          "text": [
            "L\n",
            "A\n",
            "R\n",
            "A\n"
          ]
        }
      ],
      "source": [
        "print(\"L\")\n",
        "print(\"A\")\n",
        "print(\"R\")\n",
        "print(\"A\")"
      ]
    },
    {
      "cell_type": "markdown",
      "metadata": {
        "id": "oadrJbl704MM"
      },
      "source": [
        "### Questão 4\n",
        "Imprima o dia do seu nascimento em formato `dia mês ano`. Os valores de dia e ano não podem estar entre aspas. O formato deve estar como no exemplo, supondo uma data de aniversário dia 28 de fevereiro de 2003:\n",
        "```\n",
        "28 fevereiro 2003\n",
        "```"
      ]
    },
    {
      "cell_type": "code",
      "execution_count": null,
      "metadata": {
        "id": "cx0KSsrq1ALD",
        "colab": {
          "base_uri": "https://localhost:8080/"
        },
        "outputId": "57c1cb74-890e-4d4b-a8d5-46cd48ef299c"
      },
      "outputs": [
        {
          "output_type": "stream",
          "name": "stdout",
          "text": [
            "28 março 2001\n"
          ]
        }
      ],
      "source": [
        "print(28, \"março\", 2001)"
      ]
    },
    {
      "cell_type": "markdown",
      "metadata": {
        "id": "3RgyMaan04TD"
      },
      "source": [
        "### Questão 5\n",
        "Imprima em um único print o atual ano que você está fazendo esse curso, o valor do ano deve ser um dado numérico. A saída do print deve ser a seguinte:\n",
        "```\n",
        "Ano atual: [ano]\n",
        "```\n"
      ]
    },
    {
      "cell_type": "code",
      "execution_count": null,
      "metadata": {
        "id": "UN77EfQ2d36Y",
        "colab": {
          "base_uri": "https://localhost:8080/"
        },
        "outputId": "83cc578f-fb3c-4b45-d834-07613637c7dd"
      },
      "outputs": [
        {
          "output_type": "stream",
          "name": "stdout",
          "text": [
            "Ano atual: 2024\n"
          ]
        }
      ],
      "source": [
        "print(\"Ano atual:\", 2024)"
      ]
    },
    {
      "cell_type": "markdown",
      "metadata": {
        "id": "D9e3FqhO1S3X"
      },
      "source": [
        "## Aula 2 - Manipulando dados no Python"
      ]
    },
    {
      "cell_type": "markdown",
      "metadata": {
        "id": "n6o7C1Ze2cRe"
      },
      "source": [
        "### Coleta e amostragem de dados"
      ]
    },
    {
      "cell_type": "markdown",
      "metadata": {
        "id": "sRneWag9PV5Q"
      },
      "source": [
        "#### Questão 1\n",
        "Crie um programa que solicite à pessoa usuária digitar seu nome, e imprima “Olá, [nome]!”."
      ]
    },
    {
      "cell_type": "code",
      "execution_count": null,
      "metadata": {
        "colab": {
          "base_uri": "https://localhost:8080/"
        },
        "id": "dbX1fKqy2HnE",
        "outputId": "cdadf4a6-e469-4030-d35c-f09711f0a17f"
      },
      "outputs": [
        {
          "output_type": "stream",
          "name": "stdout",
          "text": [
            "Digite seu nome: Lara\n",
            " Olá, Lara\n"
          ]
        }
      ],
      "source": [
        "nome = input(\"Digite seu nome: \")\n",
        "print(f' Olá, {nome}')"
      ]
    },
    {
      "cell_type": "markdown",
      "metadata": {
        "id": "BJ1SznEp70d5"
      },
      "source": [
        "#### Questão 2\n",
        "Crie um programa que solicite à pessoa usuária digitar seu nome e idade, e imprima “Olá, [nome], você tem [idade] anos.”."
      ]
    },
    {
      "cell_type": "code",
      "execution_count": null,
      "metadata": {
        "id": "jKz-0Sq8PFkp",
        "colab": {
          "base_uri": "https://localhost:8080/"
        },
        "outputId": "d08da147-3f01-48d9-8034-4f740573d3d0"
      },
      "outputs": [
        {
          "output_type": "stream",
          "name": "stdout",
          "text": [
            "Digite seu nome: Lara\n",
            "Digite sua idade: 23\n",
            "Olá, Lara, você tem 23 anos\n"
          ]
        }
      ],
      "source": [
        "nome = input(\"Digite seu nome: \")\n",
        "idade = input(\"Digite sua idade: \")\n",
        "print(f'Olá, {nome}, você tem {idade} anos')"
      ]
    },
    {
      "cell_type": "markdown",
      "metadata": {
        "id": "2T0jNYZt70aa"
      },
      "source": [
        "#### Questão 3\n",
        "Crie um programa que solicite à pessoa usuária digitar seu nome, idade e altura em metros, e imprima “Olá, [nome], você tem [idade] anos e mede [altura] metros!”."
      ]
    },
    {
      "cell_type": "code",
      "execution_count": null,
      "metadata": {
        "colab": {
          "base_uri": "https://localhost:8080/"
        },
        "id": "pI4kHNzTPIXh",
        "outputId": "c1d60ed3-b5b9-4d25-aa27-8b08e97ab4ab"
      },
      "outputs": [
        {
          "output_type": "stream",
          "name": "stdout",
          "text": [
            "Digite seu nome: Lara\n",
            "Digite sua idade: 23\n",
            "Digite sua altura em metros: 1.54\n",
            "Olá, Lara, você tem 23 anos e mede 1.54 metros\n"
          ]
        }
      ],
      "source": [
        "nome = input(\"Digite seu nome: \")\n",
        "idade = int(input(\"Digite sua idade: \"))\n",
        "altura = float(input(\"Digite sua altura em metros: \"))\n",
        "print(f\"Olá, {nome}, você tem {idade} anos e mede {altura} metros\")"
      ]
    },
    {
      "cell_type": "markdown",
      "metadata": {
        "id": "mEBFwKkC70KP"
      },
      "source": [
        "### Calculadora com operadores"
      ]
    },
    {
      "cell_type": "markdown",
      "metadata": {
        "id": "H-IV1oAPPSqK"
      },
      "source": [
        "#### Questão 1\n",
        "\n",
        "Crie um programa que solicite dois valores numéricos à pessoa usuária e imprima a soma dos dois valores."
      ]
    },
    {
      "cell_type": "code",
      "execution_count": null,
      "metadata": {
        "id": "Zb0W84sy8rnp",
        "colab": {
          "base_uri": "https://localhost:8080/"
        },
        "outputId": "b15698f8-3743-468f-81e7-13280c0f207e"
      },
      "outputs": [
        {
          "output_type": "stream",
          "name": "stdout",
          "text": [
            "Digite um número: 5\n",
            "Digite outro número: 6\n",
            "Soma = 11\n"
          ]
        }
      ],
      "source": [
        "valor_1 = int(input(\"Digite um número: \"))\n",
        "valor_2 = int(input(\"Digite outro número: \"))\n",
        "print(f\"Soma = {valor_1 + valor_2}\")"
      ]
    },
    {
      "cell_type": "markdown",
      "metadata": {
        "id": "LUoi2MOu70Em"
      },
      "source": [
        "#### Questão 2\n",
        "Crie um programa que solicite três valores numéricos à pessoa usuária e imprima a soma dos três valores."
      ]
    },
    {
      "cell_type": "code",
      "execution_count": null,
      "metadata": {
        "id": "4FYjWyBS8rDm",
        "colab": {
          "base_uri": "https://localhost:8080/"
        },
        "outputId": "30650c51-aa57-4e75-b152-6c5bcfa9807b"
      },
      "outputs": [
        {
          "output_type": "stream",
          "name": "stdout",
          "text": [
            "Digite o primeiro número: 8\n",
            "Digite o segundo número: 4\n",
            "Digite o terceiro número: 3\n",
            "A somas dos números é: 15\n"
          ]
        }
      ],
      "source": [
        "numero_1 = int(input(\"Digite o primeiro número: \"))\n",
        "numero_2 = int(input(\"Digite o segundo número: \"))\n",
        "numero_3 = int(input(\"Digite o terceiro número: \"))\n",
        "soma = numero_1 + numero_2 + numero_3\n",
        "print(f\"A somas dos números é: {soma}\")"
      ]
    },
    {
      "cell_type": "markdown",
      "metadata": {
        "id": "lezGctF07z8i"
      },
      "source": [
        "#### Questão 3\n",
        "Crie um programa que solicite dois valores numéricos à pessoa usuária e imprima a subtração do primeiro pelo o segundo valor."
      ]
    },
    {
      "cell_type": "code",
      "execution_count": null,
      "metadata": {
        "id": "k0GE1z4w8p3J",
        "colab": {
          "base_uri": "https://localhost:8080/"
        },
        "outputId": "44be777d-a11b-48cc-9569-187f110a763c"
      },
      "outputs": [
        {
          "output_type": "stream",
          "name": "stdout",
          "text": [
            "Digite um número: 5\n",
            "Digite um número: 2\n",
            "A subtração dos números é: 3\n"
          ]
        }
      ],
      "source": [
        "numero_1 = int(input(\"Digite um número: \"))\n",
        "numero_2 = int(input(\"Digite um número: \"))\n",
        "subtracao = numero_1 - numero_2\n",
        "print(f\"A subtração dos números é: {subtracao}\")"
      ]
    },
    {
      "cell_type": "markdown",
      "metadata": {
        "id": "wwMP-dPU7zxW"
      },
      "source": [
        "#### Questão 4\n",
        "\n",
        "Crie um programa que solicite dois valores numéricos à pessoa usuária e imprima a multiplicação dos dois valores.\n"
      ]
    },
    {
      "cell_type": "code",
      "execution_count": null,
      "metadata": {
        "id": "GzFCVHfp8peZ",
        "colab": {
          "base_uri": "https://localhost:8080/"
        },
        "outputId": "19e1dc35-e107-4327-adbc-66b7f6c2ea61"
      },
      "outputs": [
        {
          "output_type": "stream",
          "name": "stdout",
          "text": [
            "Digite um número: 7\n",
            "Digite um número: 35\n",
            "A multiplicação dos números é: 245\n"
          ]
        }
      ],
      "source": [
        "numero_1 = int(input(\"Digite um número: \"))\n",
        "numero_2 = int(input(\"Digite um número: \"))\n",
        "multiplicacao = numero_1 * numero_2\n",
        "print(f\"A multiplicação dos números é: {multiplicacao}\")"
      ]
    },
    {
      "cell_type": "markdown",
      "metadata": {
        "id": "9kxyHxUo7zRD"
      },
      "source": [
        "#### Questão 5\n",
        "\n",
        "Crie um programa que solicite dois valores numéricos, um numerador e um denominador, e realize a divisão entre os dois valores. Deixe claro que o valor do denominador não pode ser `0`.\n"
      ]
    },
    {
      "cell_type": "code",
      "execution_count": null,
      "metadata": {
        "id": "ytJ8l5KH8ozc",
        "colab": {
          "base_uri": "https://localhost:8080/"
        },
        "outputId": "3aff8ea4-5de1-4381-ea24-5e44a566182b"
      },
      "outputs": [
        {
          "output_type": "stream",
          "name": "stdout",
          "text": [
            "Digite o numerador: 2\n",
            "Digite o denominador (não pode ser 0): 3\n",
            "A divisão dos números é: 0.6666666666666666\n"
          ]
        }
      ],
      "source": [
        "numerador = int(input(\"Digite o numerador: \"))\n",
        "denominador = int(input(\"Digite o denominador (não pode ser 0): \"))\n",
        "divisao = numerador / denominador\n",
        "print(f\"A divisão dos números é: {divisao}\")"
      ]
    },
    {
      "cell_type": "markdown",
      "metadata": {
        "id": "zkUSBTQq8Hxt"
      },
      "source": [
        "#### Questão 6\n",
        "\n",
        "Crie um programa que solicite dois valores numéricos, um operador e uma potência, e realize a exponenciação entre esses dois valores.\n"
      ]
    },
    {
      "cell_type": "code",
      "execution_count": null,
      "metadata": {
        "id": "RPj36jq08oZp",
        "colab": {
          "base_uri": "https://localhost:8080/"
        },
        "outputId": "307cb007-2d8d-4271-8937-da99245a3104"
      },
      "outputs": [
        {
          "output_type": "stream",
          "name": "stdout",
          "text": [
            "Digite o operador: 2\n",
            "Digite a potência: 5\n",
            "A exponenciação do número 2 é: 32\n"
          ]
        }
      ],
      "source": [
        "operador = int(input(\"Digite o operador: \"))\n",
        "potencia = int(input(\"Digite a potência: \"))\n",
        "exponenciacao = operador ** potencia\n",
        "print(f\"A exponenciação do número {operador} é: {exponenciacao}\")"
      ]
    },
    {
      "cell_type": "markdown",
      "metadata": {
        "id": "yiunIusZ8Huj"
      },
      "source": [
        "#### Questão 7\n",
        "Crie um programa que solicite dois valores numéricos, um numerador e um denominador e realize a divisão inteira entre os dois valores. Deixe claro que o valor do denominador não pode ser `0`."
      ]
    },
    {
      "cell_type": "code",
      "execution_count": null,
      "metadata": {
        "id": "UHK8xITf8oCg",
        "colab": {
          "base_uri": "https://localhost:8080/"
        },
        "outputId": "4d131d39-5661-404b-9214-0d709791d934"
      },
      "outputs": [
        {
          "output_type": "stream",
          "name": "stdout",
          "text": [
            "Digite o numerador: 2\n",
            "Digite o denominador (não pode ser 0): 5\n",
            "A  divisão inteira dos números é: 0\n"
          ]
        }
      ],
      "source": [
        "numerador = int(input(\"Digite o numerador: \"))\n",
        "denominador = int(input(\"Digite o denominador (não pode ser 0): \"))\n",
        "divisao_inteira = numerador // denominador\n",
        "print(f\"A  divisão inteira dos números é: {divisao_inteira}\")"
      ]
    },
    {
      "cell_type": "markdown",
      "metadata": {
        "id": "z_D_JiLX8Hra"
      },
      "source": [
        "#### Questão 8\n",
        "\n",
        "Crie um programa que solicite dois valores numéricos, um numerador e um denominador, e retorne o resto da divisão entre os dois valores. Deixe claro que o valor do denominador não pode ser `0`."
      ]
    },
    {
      "cell_type": "code",
      "execution_count": null,
      "metadata": {
        "id": "EWGJeukO8nqx",
        "colab": {
          "base_uri": "https://localhost:8080/"
        },
        "outputId": "0d5de675-4c15-4236-92ae-5cf585f1d7d1"
      },
      "outputs": [
        {
          "output_type": "stream",
          "name": "stdout",
          "text": [
            "Digite o numerador: 2\n",
            "Digite o denominador (não pode ser 0): 5\n",
            "O resto da divisão é: 2\n"
          ]
        }
      ],
      "source": [
        "numerador = int(input(\"Digite o numerador: \"))\n",
        "denominador = int(input(\"Digite o denominador (não pode ser 0): \"))\n",
        "modulo = numerador % denominador\n",
        "print(f\"O resto da divisão é: {modulo}\")"
      ]
    },
    {
      "cell_type": "markdown",
      "metadata": {
        "id": "RDRajNkU8N8N"
      },
      "source": [
        "#### Questão 9\n",
        "\n",
        "Crie um código que solicita 3 notas de um estudante e imprima a média das notas."
      ]
    },
    {
      "cell_type": "code",
      "execution_count": null,
      "metadata": {
        "id": "H6F4Ojzt8nSR",
        "colab": {
          "base_uri": "https://localhost:8080/"
        },
        "outputId": "2576f058-8966-44af-ca64-0c34c7d72f88"
      },
      "outputs": [
        {
          "output_type": "stream",
          "name": "stdout",
          "text": [
            "Digite sua primeira nota: 10\n",
            "Digite sua segunda nota: 6\n",
            "Digite sua terceira nota: 7\n",
            "A média do aluno foi: 7.666666666666667\n"
          ]
        }
      ],
      "source": [
        "nota1 = float(input(\"Digite sua primeira nota: \"))\n",
        "nota2 = float(input(\"Digite sua segunda nota: \"))\n",
        "nota3 = float(input(\"Digite sua terceira nota: \"))\n",
        "\n",
        "media = (nota1 + nota2 + nota3) / 3\n",
        "print(f\"A média do aluno foi: {media}\")"
      ]
    },
    {
      "cell_type": "markdown",
      "metadata": {
        "id": "d7fjkne58N21"
      },
      "source": [
        "#### Questão 10\n",
        "\n",
        "Crie um código que calcule e imprima a média ponderada dos números 5, 12, 20 e 15 com pesos respectivamente iguais a 1, 2, 3 e 4."
      ]
    },
    {
      "cell_type": "code",
      "execution_count": null,
      "metadata": {
        "id": "fwjoHlV48mkv",
        "colab": {
          "base_uri": "https://localhost:8080/"
        },
        "outputId": "6942aaf5-b90a-4b62-f10d-c3797b11ba8d"
      },
      "outputs": [
        {
          "output_type": "stream",
          "name": "stdout",
          "text": [
            "A média ponderada é: 14.9\n"
          ]
        }
      ],
      "source": [
        "mediaPonderada = (5 * 1 + 12 * 2 + 20 * 3 + 15 * 4) / (1 + 2 + 3 + 4)\n",
        "print(f\"A média ponderada é: {mediaPonderada}\")"
      ]
    },
    {
      "cell_type": "markdown",
      "metadata": {
        "id": "GNmbX1OU8N0V"
      },
      "source": [
        "### Editando textos"
      ]
    },
    {
      "cell_type": "markdown",
      "metadata": {
        "id": "6wZ85mCsRCV0"
      },
      "source": [
        "#### Questão 1\n",
        "\n",
        "Crie uma variável chamada “`frase`” e atribua a ela uma string de sua escolha. Em seguida, imprima a frase na tela."
      ]
    },
    {
      "cell_type": "code",
      "execution_count": null,
      "metadata": {
        "id": "eRqr_gh-8mFy",
        "colab": {
          "base_uri": "https://localhost:8080/",
          "height": 35
        },
        "outputId": "0d9261ad-f057-4b81-f1e4-71597b7f955b"
      },
      "outputs": [
        {
          "output_type": "execute_result",
          "data": {
            "text/plain": [
              "'Olá mundo'"
            ],
            "application/vnd.google.colaboratory.intrinsic+json": {
              "type": "string"
            }
          },
          "metadata": {},
          "execution_count": 31
        }
      ],
      "source": [
        "frase = \"Olá mundo\"\n",
        "frase"
      ]
    },
    {
      "cell_type": "markdown",
      "metadata": {
        "id": "Aac17z-18Nwv"
      },
      "source": [
        "#### Questão 2\n",
        "Crie um código que solicite uma frase e depois imprima a frase na tela."
      ]
    },
    {
      "cell_type": "code",
      "execution_count": null,
      "metadata": {
        "id": "8zfE2hh98lb0",
        "colab": {
          "base_uri": "https://localhost:8080/",
          "height": 53
        },
        "outputId": "a9b9cc24-b269-4325-9415-02712a53ca56"
      },
      "outputs": [
        {
          "name": "stdout",
          "output_type": "stream",
          "text": [
            "Digite uma frase: Olá mundo\n"
          ]
        },
        {
          "output_type": "execute_result",
          "data": {
            "text/plain": [
              "'Olá mundo'"
            ],
            "application/vnd.google.colaboratory.intrinsic+json": {
              "type": "string"
            }
          },
          "metadata": {},
          "execution_count": 1
        }
      ],
      "source": [
        "frase = input(\"Digite uma frase: \")\n",
        "frase"
      ]
    },
    {
      "cell_type": "markdown",
      "metadata": {
        "id": "DXVzqpN58Ntr"
      },
      "source": [
        "#### Questão 3\n",
        "\n",
        "Crie um código que solicite uma frase à pessoa usuária e imprima a mesma frase digitada mas com todas as letras maiúsculas."
      ]
    },
    {
      "cell_type": "code",
      "execution_count": null,
      "metadata": {
        "id": "d0VzoYP68k-I",
        "colab": {
          "base_uri": "https://localhost:8080/",
          "height": 53
        },
        "outputId": "0a8fa356-449c-41c1-b4e7-4c7005f3b0cb"
      },
      "outputs": [
        {
          "name": "stdout",
          "output_type": "stream",
          "text": [
            "Digite uma frase: Olá mundo\n"
          ]
        },
        {
          "output_type": "execute_result",
          "data": {
            "text/plain": [
              "'OLÁ MUNDO'"
            ],
            "application/vnd.google.colaboratory.intrinsic+json": {
              "type": "string"
            }
          },
          "metadata": {},
          "execution_count": 34
        }
      ],
      "source": [
        "frase = input(\"Digite uma frase: \")\n",
        "frase = frase.upper()\n",
        "frase"
      ]
    },
    {
      "cell_type": "markdown",
      "metadata": {
        "id": "I12VeNPK8Nqb"
      },
      "source": [
        "#### Questão 4\n",
        "\n",
        "Crie um código que solicite uma frase à pessoa usuária e imprima a mesma frase digitada mas com todas as letras minúsculas."
      ]
    },
    {
      "cell_type": "code",
      "execution_count": null,
      "metadata": {
        "id": "KD8rNy2K8kox",
        "colab": {
          "base_uri": "https://localhost:8080/",
          "height": 53
        },
        "outputId": "1eb00510-eccf-4b5e-86a1-351b29cdab63"
      },
      "outputs": [
        {
          "name": "stdout",
          "output_type": "stream",
          "text": [
            "Digite uma frase: OLÁ MUNDO\n"
          ]
        },
        {
          "output_type": "execute_result",
          "data": {
            "text/plain": [
              "'olá mundo'"
            ],
            "application/vnd.google.colaboratory.intrinsic+json": {
              "type": "string"
            }
          },
          "metadata": {},
          "execution_count": 35
        }
      ],
      "source": [
        "frase = input(\"Digite uma frase: \")\n",
        "frase = frase.lower()\n",
        "frase"
      ]
    },
    {
      "cell_type": "markdown",
      "metadata": {
        "id": "cRqngSE48Nog"
      },
      "source": [
        "#### Questão 5\n",
        "\n",
        "Crie uma variável chamada “`frase`” e atribua a ela uma string de sua escolha. Em seguida, imprima a frase sem espaços em branco no início e no fim."
      ]
    },
    {
      "cell_type": "code",
      "execution_count": null,
      "metadata": {
        "id": "aSCpdF-o8kBs",
        "colab": {
          "base_uri": "https://localhost:8080/",
          "height": 53
        },
        "outputId": "5103f653-4b9f-46b3-90b7-652a9250de65"
      },
      "outputs": [
        {
          "output_type": "stream",
          "name": "stdout",
          "text": [
            "           Olá mundo !   \n"
          ]
        },
        {
          "output_type": "execute_result",
          "data": {
            "text/plain": [
              "'Olá mundo !'"
            ],
            "application/vnd.google.colaboratory.intrinsic+json": {
              "type": "string"
            }
          },
          "metadata": {},
          "execution_count": 36
        }
      ],
      "source": [
        "frase = \"           Olá mundo !   \"\n",
        "print(frase)\n",
        "frase = frase.strip()\n",
        "frase"
      ]
    },
    {
      "cell_type": "markdown",
      "metadata": {
        "id": "murIazpQ8Nkv"
      },
      "source": [
        "#### Questão 6\n",
        "\n",
        "Crie um código que solicite uma frase à pessoa usuária e imprima a mesma frase sem espaços em branco no início e no fim."
      ]
    },
    {
      "cell_type": "code",
      "execution_count": null,
      "metadata": {
        "id": "tHunjwuG8jNq",
        "colab": {
          "base_uri": "https://localhost:8080/",
          "height": 53
        },
        "outputId": "8cb6e098-f7f6-4444-b60c-6a573c706665"
      },
      "outputs": [
        {
          "name": "stdout",
          "output_type": "stream",
          "text": [
            "Digite uma frase:    Olá mundo        \n"
          ]
        },
        {
          "output_type": "execute_result",
          "data": {
            "text/plain": [
              "'Olá mundo'"
            ],
            "application/vnd.google.colaboratory.intrinsic+json": {
              "type": "string"
            }
          },
          "metadata": {},
          "execution_count": 2
        }
      ],
      "source": [
        "frase = input(\"Digite uma frase: \")\n",
        "frase = frase.strip()\n",
        "frase"
      ]
    },
    {
      "cell_type": "markdown",
      "metadata": {
        "id": "eRxc2OeX8Nh2"
      },
      "source": [
        "#### Questão 7\n",
        "\n",
        "\n",
        "Crie um código que solicite uma frase à pessoa usuária e imprima a mesma frase sem espaços em branco no início e no fim e em letras minúsculas."
      ]
    },
    {
      "cell_type": "code",
      "execution_count": null,
      "metadata": {
        "id": "DYm0_UwS8ih6",
        "colab": {
          "base_uri": "https://localhost:8080/",
          "height": 53
        },
        "outputId": "3dd27f6b-6f5c-424b-e7e3-3b03fc82bef8"
      },
      "outputs": [
        {
          "name": "stdout",
          "output_type": "stream",
          "text": [
            "Digite uma frase:       OLÁ MUNDO    \n"
          ]
        },
        {
          "output_type": "execute_result",
          "data": {
            "text/plain": [
              "'olá mundo'"
            ],
            "application/vnd.google.colaboratory.intrinsic+json": {
              "type": "string"
            }
          },
          "metadata": {},
          "execution_count": 3
        }
      ],
      "source": [
        "frase = input(\"Digite uma frase: \")\n",
        "frase = frase.strip().lower()\n",
        "frase"
      ]
    },
    {
      "cell_type": "markdown",
      "metadata": {
        "id": "UKATLavs8NfI"
      },
      "source": [
        "#### Questão 8\n",
        "\n",
        "Crie um código que solicite uma frase à pessoa usuária e imprima a mesma frase com todas as vogais “`e`” trocadas pela letra “`f`”."
      ]
    },
    {
      "cell_type": "code",
      "execution_count": null,
      "metadata": {
        "id": "k64C5G5S8iLO",
        "colab": {
          "base_uri": "https://localhost:8080/",
          "height": 53
        },
        "outputId": "62f51ffa-06e8-4db9-d579-31263dff5f56"
      },
      "outputs": [
        {
          "name": "stdout",
          "output_type": "stream",
          "text": [
            "Digite uma frase: hora de estudar\n"
          ]
        },
        {
          "output_type": "execute_result",
          "data": {
            "text/plain": [
              "'hora df fstudar'"
            ],
            "application/vnd.google.colaboratory.intrinsic+json": {
              "type": "string"
            }
          },
          "metadata": {},
          "execution_count": 4
        }
      ],
      "source": [
        "frase = input(\"Digite uma frase: \")\n",
        "frase = frase.lower().replace('e', 'f')\n",
        "frase"
      ]
    },
    {
      "cell_type": "markdown",
      "metadata": {
        "id": "n_1SPchw8NdG"
      },
      "source": [
        "#### Questão 9\n",
        "\n",
        "\n",
        "Crie um código que solicite uma frase à pessoa usuária e imprima a mesma frase com todas as vogais “`a`” trocadas pela caractere  “`@`”."
      ]
    },
    {
      "cell_type": "code",
      "execution_count": null,
      "metadata": {
        "id": "msaDNm_p8h0D",
        "colab": {
          "base_uri": "https://localhost:8080/",
          "height": 53
        },
        "outputId": "7a5b8aa8-3157-469f-9fd2-cd779523f957"
      },
      "outputs": [
        {
          "name": "stdout",
          "output_type": "stream",
          "text": [
            "Digite uma frase: Amo gatos\n"
          ]
        },
        {
          "output_type": "execute_result",
          "data": {
            "text/plain": [
              "'@mo g@tos'"
            ],
            "application/vnd.google.colaboratory.intrinsic+json": {
              "type": "string"
            }
          },
          "metadata": {},
          "execution_count": 9
        }
      ],
      "source": [
        "frase = input(\"Digite uma frase: \")\n",
        "frase = frase.lower().replace('a', '@')\n",
        "frase"
      ]
    },
    {
      "cell_type": "markdown",
      "metadata": {
        "id": "H3sTTjqI8Naa"
      },
      "source": [
        "#### Questão 10\n",
        "\n",
        "\n",
        "Crie um código que solicite uma frase à pessoa usuária e imprima a mesma frase com todas as consoantes “`s`” trocadas pelo caractere  “`$`”."
      ]
    },
    {
      "cell_type": "code",
      "execution_count": null,
      "metadata": {
        "id": "RPBIsWT68e-1",
        "colab": {
          "base_uri": "https://localhost:8080/",
          "height": 53
        },
        "outputId": "66360406-4f71-4b50-9f2d-96db19e693c7"
      },
      "outputs": [
        {
          "name": "stdout",
          "output_type": "stream",
          "text": [
            "Digite uma frase: Samira da Silva\n"
          ]
        },
        {
          "output_type": "execute_result",
          "data": {
            "text/plain": [
              "'$amira da $ilva'"
            ],
            "application/vnd.google.colaboratory.intrinsic+json": {
              "type": "string"
            }
          },
          "metadata": {},
          "execution_count": 7
        }
      ],
      "source": [
        "frase = input(\"Digite uma frase: \")\n",
        "frase = frase.lower().replace('s', '$')\n",
        "frase"
      ]
    },
    {
      "cell_type": "markdown",
      "metadata": {
        "id": "XGePe4GD2I59"
      },
      "source": [
        "## Aula 3 - Estruturas condicionais"
      ]
    },
    {
      "cell_type": "markdown",
      "metadata": {
        "id": "Pr9HTW0UHCdD"
      },
      "source": [
        "### Aquecendo na programação"
      ]
    },
    {
      "cell_type": "markdown",
      "metadata": {
        "id": "xBZHqhVg80Fy"
      },
      "source": [
        "#### Questão 1\n",
        "Escreva um programa que peça à pessoa usuária para fornecer dois números e exibir o número maior."
      ]
    },
    {
      "cell_type": "code",
      "execution_count": null,
      "metadata": {
        "id": "GJlGnzjc-xyF",
        "colab": {
          "base_uri": "https://localhost:8080/"
        },
        "outputId": "0a14882d-e61e-4e11-f37b-e4291824e6af"
      },
      "outputs": [
        {
          "output_type": "stream",
          "name": "stdout",
          "text": [
            "Digite um número: 5\n",
            "Digite outro número: 2\n",
            "5.0\n"
          ]
        }
      ],
      "source": [
        "numero_1 = float(input(\"Digite um número: \"))\n",
        "numero_2 = float(input(\"Digite outro número: \"))\n",
        "\n",
        "if numero_1 > numero_2:\n",
        "  print(numero_1)\n",
        "else:\n",
        "  print(numero_2)"
      ]
    },
    {
      "cell_type": "markdown",
      "metadata": {
        "id": "H4sgN7dyHNJF"
      },
      "source": [
        "#### Questão 2\n",
        "Escreva um programa que solicite o percentual de crescimento de produção de uma empresa e informe se houve um crescimento (porcentagem positiva) ou decrescimento (porcentagem negativa)."
      ]
    },
    {
      "cell_type": "code",
      "execution_count": null,
      "metadata": {
        "id": "-2_Ry5XJ-yZW",
        "colab": {
          "base_uri": "https://localhost:8080/"
        },
        "outputId": "a8bb4ce7-2c6d-4c68-afd8-5ccef464d7ab"
      },
      "outputs": [
        {
          "output_type": "stream",
          "name": "stdout",
          "text": [
            "Digite o percentual de crescimento: 1\n",
            "Houve um crescimento de 1.0%\n"
          ]
        }
      ],
      "source": [
        "variacao = float(input(\"Digite o percentual de crescimento: \"))\n",
        "if variacao > 0:\n",
        "  print(f\"Houve um crescimento de {variacao}%\")\n",
        "elif variacao < 0:\n",
        "    print(f\"Houve um decrescimento de {variacao}%\")\n",
        "else:\n",
        "  print(\"Não houve um crescimento nem decrescimento\")"
      ]
    },
    {
      "cell_type": "markdown",
      "metadata": {
        "id": "a_mzNOBDHNny"
      },
      "source": [
        "#### Questão 3\n",
        "Escreva um programa que determine se uma letra fornecida pela pessoa usuária é uma vogal ou consoante."
      ]
    },
    {
      "cell_type": "code",
      "execution_count": null,
      "metadata": {
        "id": "NbgndVyg-zFJ",
        "colab": {
          "base_uri": "https://localhost:8080/"
        },
        "outputId": "fa7664ef-e721-4eb5-e3e4-e19594e5d61d"
      },
      "outputs": [
        {
          "output_type": "stream",
          "name": "stdout",
          "text": [
            "Digite uma letra: b\n",
            "A letra é uma consoante\n"
          ]
        }
      ],
      "source": [
        "letra = input(\"Digite uma letra: \").lower()\n",
        "vogais = \"aeiou\"\n",
        "if letra in vogais:\n",
        "  print(\"A letra é uma vogal\")\n",
        "else:\n",
        "  print(\"A letra é uma consoante\")"
      ]
    },
    {
      "cell_type": "markdown",
      "metadata": {
        "id": "mofMRjSZHP99"
      },
      "source": [
        "#### Questão 4\n",
        "Escreva um programa que leia valores médios de preços de um modelo de carro por 3 anos consecutivos e exiba o valor mais alto e mais baixo entre esses três anos."
      ]
    },
    {
      "cell_type": "code",
      "execution_count": null,
      "metadata": {
        "id": "TX--d3k9-02c",
        "colab": {
          "base_uri": "https://localhost:8080/"
        },
        "outputId": "7f982a87-7233-4ac0-a140-c58508e68e4e"
      },
      "outputs": [
        {
          "output_type": "stream",
          "name": "stdout",
          "text": [
            "Informe o preço médio do carro no primeiro ano: 150000\n",
            "Informe o preço médio do carro no segundo ano: 900000\n",
            "Informe o preço médio do carro no terceiro ano: 541651\n",
            "O maior valor 900000.0\n",
            "O menor valor 150000.0\n"
          ]
        }
      ],
      "source": [
        "valor_primeiro_ano = float(input(\"Informe o preço médio do carro no primeiro ano: \"))\n",
        "valor_segundo_ano = float(input(\"Informe o preço médio do carro no segundo ano: \"))\n",
        "valor_terceiro_ano = float(input(\"Informe o preço médio do carro no terceiro ano: \"))\n",
        "\n",
        "maior = valor_primeiro_ano\n",
        "if valor_segundo_ano > maior:\n",
        "  maior = valor_segundo_ano\n",
        "elif valor_terceiro_ano > maior:\n",
        "  maior = valor_terceiro_ano\n",
        "\n",
        "menor = valor_primeiro_ano\n",
        "if valor_segundo_ano < menor:\n",
        "  menor = valor_segundo_ano\n",
        "elif valor_terceiro_ano < menor:\n",
        "  menor = valor_terceiro_ano\n",
        "\n",
        "print(f\"O maior valor {maior}\")\n",
        "print(f\"O menor valor {menor}\")"
      ]
    },
    {
      "cell_type": "markdown",
      "metadata": {
        "id": "jY5tIwd-HQzc"
      },
      "source": [
        "#### Questão 5\n",
        "Escreva um programa que pergunte sobre o preço de três produtos e indique qual é o produto mais barato para comprar."
      ]
    },
    {
      "cell_type": "code",
      "execution_count": null,
      "metadata": {
        "id": "sYqNh9df-0gk",
        "colab": {
          "base_uri": "https://localhost:8080/"
        },
        "outputId": "5b72929b-e95b-4ce7-e0fb-358831186023"
      },
      "outputs": [
        {
          "output_type": "stream",
          "name": "stdout",
          "text": [
            "Coloque o valor do primeiro produto: 9\n",
            "Coloque o valor do segundo produto: 9\n",
            "Coloque o valor do terceiro produto: 4\n",
            "O terceiro produto é o mais barato.\n"
          ]
        }
      ],
      "source": [
        "produto1 = float(input(\"Coloque o valor do primeiro produto: \"))\n",
        "produto2 = float(input(\"Coloque o valor do segundo produto: \"))\n",
        "produto3 = float(input(\"Coloque o valor do terceiro produto: \"))\n",
        "\n",
        "if produto1 < produto2 and produto1 < produto2:\n",
        "  print(\"O primeiro produto é o mais barato.\")\n",
        "elif produto2 < produto1 and produto2 < produto3:\n",
        "    print(\"O segundo produto é o mais barato.\")\n",
        "elif produto3 < produto1 and produto3 < produto2:\n",
        "    print(\"O terceiro produto é o mais barato.\")\n",
        "elif produto1 == produto2 == produto3:\n",
        "  print(\"Os produtos possuem o mesmo valor\")\n",
        "else:\n",
        "  if produto1 == produto2:\n",
        "      print(\"O primeiro e o segundo produto são os mais baratos.\")\n",
        "  elif produto1 == produto3:\n",
        "      print(\"O primeiro e o terceiro produto são os mais baratos.\")\n",
        "  elif produto2 == produto3:\n",
        "      print(\"O segundo e o terceiro produto são os mais baratos.\")\n"
      ]
    },
    {
      "cell_type": "markdown",
      "metadata": {
        "id": "1r6aVxtTHR4E"
      },
      "source": [
        "#### Questão 6\n",
        "Escreva um programa que leia três números e os exiba em ordem decrescente."
      ]
    },
    {
      "cell_type": "code",
      "execution_count": null,
      "metadata": {
        "id": "ydOCYUMO-0Hk",
        "colab": {
          "base_uri": "https://localhost:8080/"
        },
        "outputId": "770dad9b-dc84-4c76-9e99-6d9e118891c9"
      },
      "outputs": [
        {
          "output_type": "stream",
          "name": "stdout",
          "text": [
            "Digite um número: 5\n",
            "Digite um número: 9\n",
            "Digite um número: 8\n",
            "9\n",
            "8\n",
            "5\n"
          ]
        }
      ],
      "source": [
        "numero1 = (int(input(\"Digite um número: \")))\n",
        "numero2 = (int(input(\"Digite um número: \")))\n",
        "numero3 = (int(input(\"Digite um número: \")))\n",
        "\n",
        "if numero1 >= numero2 and numero1 >= numero3:\n",
        "  print(numero1)\n",
        "  if numero2 >= numero3:\n",
        "    print(numero2)\n",
        "    print(numero3)\n",
        "  else:\n",
        "    print(numero3)\n",
        "    print(numero2)\n",
        "elif (numero2 >= numero1) and (numero2 >= numero3):\n",
        "    print(numero2)\n",
        "    if numero1 >= numero3:\n",
        "        print(numero1)\n",
        "        print(numero3)\n",
        "    else:\n",
        "        print(numero3)\n",
        "        print(numero1)\n",
        "else:\n",
        "    print(numero3)\n",
        "    if numero1 >= numero2:\n",
        "        print(numero1)\n",
        "        print(numero2)\n",
        "    else:\n",
        "        print(numero2)\n",
        "        print(numero1)"
      ]
    },
    {
      "cell_type": "markdown",
      "metadata": {
        "id": "inW3F-hAHS_X"
      },
      "source": [
        "#### Questão 7\n",
        "Escreva um programa que pergunte em qual turno a pessoa usuária estuda (\"manhã\", \"tarde\" ou \"noite\") e exiba a mensagem \"Bom Dia!\", \"Boa Tarde!\", \"Boa Noite!\", ou \"Valor Inválido!\", conforme o caso."
      ]
    },
    {
      "cell_type": "code",
      "execution_count": null,
      "metadata": {
        "id": "-_q-Pcr_-zth",
        "colab": {
          "base_uri": "https://localhost:8080/"
        },
        "outputId": "ee35adca-443f-4671-c7eb-ec360c57034d"
      },
      "outputs": [
        {
          "output_type": "stream",
          "name": "stdout",
          "text": [
            "Qual turno a pessoa estuda: MANHÃ\n",
            "Bom dia\n"
          ]
        }
      ],
      "source": [
        "horario = input(\"Qual turno a pessoa estuda: \").lower()\n",
        "\n",
        "if horario == \"manhã\":\n",
        "  print(\"Bom dia\")\n",
        "elif horario == \"tarde\":\n",
        "  print(\"Boa tarde\")\n",
        "elif horario == \"noite\":\n",
        "  print(\"Boa noite\")\n",
        "else:\n",
        "  print(\"Valor inválido\")"
      ]
    },
    {
      "cell_type": "markdown",
      "metadata": {
        "id": "NCCPF3QqHTw-"
      },
      "source": [
        "#### Questão 8\n",
        "Escreva um programa que peça um número inteiro à pessoa usuária e determine se ele é par ou ímpar. Dica: Você pode utilizar o operador módulo `%`."
      ]
    },
    {
      "cell_type": "code",
      "execution_count": null,
      "metadata": {
        "id": "OmZJt1nQ-3e6",
        "colab": {
          "base_uri": "https://localhost:8080/"
        },
        "outputId": "eab1ee8d-e0fa-4c4a-b5ef-99bc80d68a89"
      },
      "outputs": [
        {
          "output_type": "stream",
          "name": "stdout",
          "text": [
            "Digite um número inteiro: 2\n",
            "O número 2 é par\n"
          ]
        }
      ],
      "source": [
        "numero = int(input(\"Digite um número inteiro: \"))\n",
        "if numero % 2 == 0:\n",
        "  print(f\"O número {numero} é par\")\n",
        "else:\n",
        "  print(f\"O número {numero} é ímpar\")"
      ]
    },
    {
      "cell_type": "markdown",
      "metadata": {
        "id": "h93Ck1tQHUwE"
      },
      "source": [
        "#### Questão 9\n",
        "Escreva um programa que peça um número à pessoa usuária e informe se ele é inteiro ou decimal."
      ]
    },
    {
      "cell_type": "code",
      "execution_count": null,
      "metadata": {
        "id": "sLMlZcx8-20N",
        "colab": {
          "base_uri": "https://localhost:8080/"
        },
        "outputId": "f0d2824f-1257-4069-e4eb-34877c59a44f"
      },
      "outputs": [
        {
          "output_type": "stream",
          "name": "stdout",
          "text": [
            "Digite um número: 10.2\n",
            "10.2 é um número decimal\n"
          ]
        }
      ],
      "source": [
        "numero = float(input(\"Digite um número: \"))\n",
        "if numero % 1 == 0:\n",
        "  print(f\"{numero} é um número inteiro\")\n",
        "else:\n",
        "  print(f\"{numero} é um número decimal\")"
      ]
    },
    {
      "cell_type": "markdown",
      "metadata": {
        "id": "bKdXSK1SH_pF"
      },
      "source": [
        "### Momento dos projetos"
      ]
    },
    {
      "cell_type": "markdown",
      "metadata": {
        "id": "WBlEyyzsHV86"
      },
      "source": [
        "#### Questão 10\n",
        "Um programa deve ser escrito para ler dois números e, em seguida, perguntar à pessoa usuária qual operação ele deseja realizar. O resultado da operação deve incluir informações sobre o número - se é par ou ímpar, positivo ou negativo e inteiro ou decimal."
      ]
    },
    {
      "cell_type": "code",
      "execution_count": null,
      "metadata": {
        "id": "3jmahZ0f-2gq",
        "colab": {
          "base_uri": "https://localhost:8080/"
        },
        "outputId": "a60cfa6a-e42c-4f87-efdf-0cd48ad21d8e"
      },
      "outputs": [
        {
          "output_type": "stream",
          "name": "stdout",
          "text": [
            "Digite um número: 5\n",
            "Digite outro número: 1\n",
            "Informe a operação desejada (+, -, *, /): *\n",
            "O resultado é inteiro.\n",
            "O resultado é positivo.\n",
            "O resultado é ímpar.\n"
          ]
        }
      ],
      "source": [
        "x = float(input(\"Digite um número: \"))\n",
        "y = float(input(\"Digite outro número: \"))\n",
        "operacao = input(\"Informe a operação desejada (+, -, *, /): \")\n",
        "\n",
        "if operacao == '+':\n",
        "  resultado = x + y\n",
        "elif operacao == '-':\n",
        "    resultado = x - y\n",
        "elif operacao == '*':\n",
        "    resultado = x * y\n",
        "elif operacao == '/':\n",
        "    resultado = x / y\n",
        "else:\n",
        "  print(\"Valor inválido\")\n",
        "  resultado = 0\n",
        "\n",
        "if resultado % 1 == 0:\n",
        "    print('O resultado é inteiro.')\n",
        "else:\n",
        "    print('O resultado é decimal.')\n",
        "\n",
        "if resultado > 0:\n",
        "    print('O resultado é positivo.')\n",
        "elif resultado == 0:\n",
        "    print('O resultado é neutro.')\n",
        "else:\n",
        "    print('O resultado é negativo.')\n",
        "\n",
        "if resultado % 2 == 0:\n",
        "    print('O resultado é par.')\n",
        "else:\n",
        "    print('O resultado é ímpar.')"
      ]
    },
    {
      "cell_type": "markdown",
      "metadata": {
        "id": "VdnlULxHHW19"
      },
      "source": [
        "#### Questão 11\n",
        "Escreva um programa que peça à pessoa usuária três números que representam os lados de um triângulo. O programa deve informar se os valores podem ser utilizados para formar um triângulo e, caso afirmativo, se ele é equilátero, isósceles ou escaleno. Tenha em mente algumas dicas:\n",
        "- Três lados formam um triângulo quando a soma de quaisquer dois lados for maior que o terceiro;\n",
        "- Triângulo Equilátero: três lados iguais;\n",
        "- Triângulo Isósceles: quaisquer dois lados iguais;\n",
        "- Triângulo Escaleno: três lados diferentes;\n"
      ]
    },
    {
      "cell_type": "code",
      "execution_count": null,
      "metadata": {
        "id": "0z73sqUO-2Pw",
        "colab": {
          "base_uri": "https://localhost:8080/"
        },
        "outputId": "a9ce4ea6-53eb-430f-a7e6-7c531bf5bb2f"
      },
      "outputs": [
        {
          "output_type": "stream",
          "name": "stdout",
          "text": [
            "Vamos coletar os lados de um triângulo.\n",
            "Digite o comprimento do primeiro lado: 9\n",
            "Digite o comprimento do segundo lado: 9\n",
            "Digite o comprimento do terceiro lado: 9\n",
            "\n",
            "Os valores podem formar um triângulo\n",
            "O triângulo é equilátero.\n"
          ]
        }
      ],
      "source": [
        "print('Vamos coletar os lados de um triângulo.')\n",
        "lado1 = float(input('Digite o comprimento do primeiro lado: '))\n",
        "lado2 = float(input('Digite o comprimento do segundo lado: '))\n",
        "lado3 = float(input('Digite o comprimento do terceiro lado: '))\n",
        "\n",
        "if (lado1 + lado2 > lado3) and (lado2 + lado3 > lado1) and (lado1 + lado3 > lado2):\n",
        "    print('\\nOs valores podem formar um triângulo')\n",
        "\n",
        "    if lado1 == lado2 == lado3:\n",
        "        print('O triângulo é equilátero.')\n",
        "    elif (lado1 == lado2) or (lado2 == lado3) or (lado1 == lado3):\n",
        "        print('O triângulo é isósceles.')\n",
        "    else:\n",
        "        print('O triângulo é escaleno.')\n",
        "else:\n",
        "    print('Os valores não podem formar um triângulo')"
      ]
    },
    {
      "cell_type": "markdown",
      "metadata": {
        "id": "_PpEpOugHXwZ"
      },
      "source": [
        "#### Questão 12\n",
        "Um estabelecimento está vendendo combustíveis com descontos variados. Para o etanol, se a quantidade comprada for até 15 litros, o desconto será de 2% por litro. Caso contrário, será de 4% por litro. Para o diesel, se a quantidade comprada for até 15 litros, o desconto será de 3% por litro. Caso contrário, será de 5% por litro. O preço do litro de diesel é R\\$ 2,00 e o preço do litro de etanol é R\\$ 1,70. Escreva um programa que leia a quantidade de litros vendidos e o tipo de combustível (E para etanol e D para diesel) e calcule o valor a ser pago pelo cliente. Tenha em mente algumas dicas:\n",
        "\n",
        "- O do valor do desconto será a multiplicação entre preço do litro, quantidade de litros e o valor do desconto.\n",
        "- O valor a ser pago por um cliente será o resultado da multiplicação do preço do litro pela quantidade de litros menos o valor de desconto resultante do cálculo.\n"
      ]
    },
    {
      "cell_type": "code",
      "execution_count": null,
      "metadata": {
        "id": "9izoF-0O-1yD",
        "colab": {
          "base_uri": "https://localhost:8080/"
        },
        "outputId": "96aa70c2-4adf-4bef-a725-6fc13d5f7909"
      },
      "outputs": [
        {
          "output_type": "stream",
          "name": "stdout",
          "text": [
            "Digite o combustível desejado (E para etanol e D para diesel: d\n",
            "Digite a quantidade de litros: 26\n",
            "O valor a ser pago pelo cliente: R$ 49.40\n"
          ]
        }
      ],
      "source": [
        "tipo_combustivel = input(\"Digite o combustível desejado (E para etanol e D para diesel: \").upper()\n",
        "\n",
        "if tipo_combustivel != 'D' and tipo_combustivel != 'E':\n",
        "  print(\"Valor inválido\")\n",
        "\n",
        "else:\n",
        "  litros = float(input(\"Digite a quantidade de litros: \"))\n",
        "  if litros <= 0:\n",
        "    print(\"Valor inválido\")\n",
        "  else:\n",
        "    if tipo_combustivel == 'E':\n",
        "      preco = 1.70\n",
        "      if litros <= 15:\n",
        "        desconto = 0.02\n",
        "      else:\n",
        "        desconto = 0.04\n",
        "    elif tipo_combustivel == 'D':\n",
        "      preco = 2.00\n",
        "      if litros <= 15:\n",
        "        desconto = 0.03\n",
        "      else:\n",
        "        desconto = 0.05\n",
        "\n",
        "    valor_desconto = preco * litros * desconto\n",
        "    valor_pago = preco * litros - valor_desconto\n",
        "\n",
        "    print(f\"O valor a ser pago pelo cliente: R$   {valor_pago:.2f}\")"
      ]
    },
    {
      "cell_type": "markdown",
      "metadata": {
        "id": "s_XS_D1WHY2R"
      },
      "source": [
        "#### Questão 13\n",
        "Em uma empresa de venda de imóveis você precisa criar um código que analise os dados de vendas anuais para ajudar a diretoria na tomada de decisão. O código precisa coletar os dados de quantidade de venda durante os anos de 2022 e 2023 e fazer um cálculo de variação percentual. A partir do valor da variação, deve ser enviada às seguintes sugestões:\n",
        "- Para variação acima de 20%: bonificação para o time de vendas.\n",
        "- Para variação entre 2% e 20%: pequena bonificação para time de vendas.\n",
        "- Para variação entre 2% e -10%: planejamento de políticas de incentivo às vendas.\n",
        "- Para bonificações abaixo de -10%: corte de gastos.\n"
      ]
    },
    {
      "cell_type": "code",
      "execution_count": null,
      "metadata": {
        "id": "avQrYlUg-w8f",
        "colab": {
          "base_uri": "https://localhost:8080/"
        },
        "outputId": "0b19378b-2fca-4208-ebc3-c48a4e9ac419"
      },
      "outputs": [
        {
          "output_type": "stream",
          "name": "stdout",
          "text": [
            "Digite a quantidade de vendas em 2022: 2000\n",
            "Digite a quantidade de vendas em 2023: 6000\n",
            "Bonificação para o time de vendas.\n"
          ]
        }
      ],
      "source": [
        "venda_2022 = float(input(\"Digite a quantidade de vendas em 2022: \"))\n",
        "venda_2023 = float(input(\"Digite a quantidade de vendas em 2023: \"))\n",
        "\n",
        "var_percentual = 100 * (venda_2023 - venda_2022) / venda_2022\n",
        "\n",
        "if var_percentual > 20:\n",
        "  print(\"Bonificação para o time de vendas.\")\n",
        "elif 2 <= var_percentual <= 20:\n",
        "  print(\"Pequena bonificação para time de vendas.\")\n",
        "elif -10 <= var_percentual < 2:\n",
        "  print(\"Planejamento de políticas de incentivo às vendas.\")\n",
        "else:\n",
        "  print(\"Corte de gastos.\")"
      ]
    },
    {
      "cell_type": "markdown",
      "metadata": {
        "id": "AuaWh4-d2Itt"
      },
      "source": [
        "## Aula 4 - Estruturas de repetição"
      ]
    },
    {
      "cell_type": "markdown",
      "metadata": {
        "id": "6MSqU0sIJRdD"
      },
      "source": [
        "### Aquecendo na programação"
      ]
    },
    {
      "cell_type": "markdown",
      "metadata": {
        "id": "9eGGyCnAJRdQ"
      },
      "source": [
        "#### Questão 1\n",
        "Escreva um programa que peça dois números inteiros e imprima todos os números inteiros entre eles."
      ]
    },
    {
      "cell_type": "code",
      "execution_count": null,
      "metadata": {
        "id": "ID1oc1hxJRdQ",
        "colab": {
          "base_uri": "https://localhost:8080/"
        },
        "outputId": "f3f637c1-3144-41a5-fc91-5d12b40ab5d1"
      },
      "outputs": [
        {
          "output_type": "stream",
          "name": "stdout",
          "text": [
            "Digite um número: 10\n",
            "Digite outro número: 5\n",
            "6\n",
            "7\n",
            "8\n",
            "9\n"
          ]
        }
      ],
      "source": [
        "x = int(input(\"Digite um número: \"))\n",
        "y = int(input(\"Digite outro número: \"))\n",
        "\n",
        "if x < y:\n",
        "  for contador in range(x + 1, y):\n",
        "    print(contador)\n",
        "elif y < x:\n",
        "  for contador in range(y + 1, x):\n",
        "    print(contador)\n",
        "else:\n",
        "  print(\"Os números são iguais.\")"
      ]
    },
    {
      "cell_type": "markdown",
      "metadata": {
        "id": "mGonEHYCJRdR"
      },
      "source": [
        "#### Questão 2\n",
        "Escreva um programa para calcular quantos dias levará para a colônia de uma bactéria A ultrapassar ou igualar a colônia de uma bactéria B, com base nas taxas de crescimento de 3% e 1,5% respectivamente. Considere que a colônia A inicia com 4 elementos e a colônia B com 10 elementos."
      ]
    },
    {
      "cell_type": "code",
      "execution_count": null,
      "metadata": {
        "id": "wM6FJuoqJRdR",
        "colab": {
          "base_uri": "https://localhost:8080/"
        },
        "outputId": "e42af766-40c0-4a3f-9188-4b9e119d41c1"
      },
      "outputs": [
        {
          "output_type": "stream",
          "name": "stdout",
          "text": [
            "A colônia A demorou 63 dias para ultrapassar a colônia B\n",
            "Colônia A = 25.75\n",
            "Colônia B = 25.55\n"
          ]
        }
      ],
      "source": [
        "coloniaA = 4\n",
        "coloniaB = 10\n",
        "\n",
        "taxa_crescimentoA = 0.03\n",
        "taxa_crescimentoB = 0.015\n",
        "\n",
        "dia = 0\n",
        "\n",
        "while coloniaA <= coloniaB:\n",
        "    dia += 1\n",
        "    coloniaA *= 1 + taxa_crescimentoA\n",
        "    coloniaB *= 1 + taxa_crescimentoB\n",
        "\n",
        "if coloniaA < coloniaB:\n",
        "    print(f\"A colônia A demorou {dia} dias para igualar a colônia B\")\n",
        "else:\n",
        "    print(f\"A colônia A demorou {dia} dias para ultrapassar a colônia B\")\n",
        "print(f\"Colônia A = {coloniaA:.2f}\\nColônia B = {coloniaB:.2f}\")\n"
      ]
    },
    {
      "cell_type": "markdown",
      "metadata": {
        "id": "UiOZRlqoJRdR"
      },
      "source": [
        "#### Questão 3\n",
        "Para tratar uma quantidade de 15 dados de avaliações de pessoas usuárias de um serviço da empresa, precisamos verificar se as notas são válidas. Então, escreva um programa que vai receber a nota de 0 a 5 de todos os dados e verificar se é um valor válido. Caso seja inserido uma nota acima de 5 ou abaixo de 0, repita até que a pessoa usuária insira um valor válido."
      ]
    },
    {
      "cell_type": "code",
      "execution_count": null,
      "metadata": {
        "id": "3TUAhCxcJRdR",
        "colab": {
          "base_uri": "https://localhost:8080/"
        },
        "outputId": "1eb32eaa-051e-4f99-c077-7807090f5c9f"
      },
      "outputs": [
        {
          "output_type": "stream",
          "name": "stdout",
          "text": [
            "Insira a nota 1: 1\n",
            "Valor registrado\n",
            "Insira a nota 2: 2\n",
            "Valor registrado\n",
            "Insira a nota 3: 3\n",
            "Valor registrado\n",
            "Insira a nota 4: 4\n",
            "Valor registrado\n",
            "Insira a nota 5: 5\n",
            "Valor registrado\n",
            "Insira a nota 6: 1\n",
            "Valor registrado\n",
            "Insira a nota 7: 2\n",
            "Valor registrado\n",
            "Insira a nota 8: 3\n",
            "Valor registrado\n",
            "Insira a nota 9: 4\n",
            "Valor registrado\n",
            "Insira a nota 10: 5\n",
            "Valor registrado\n",
            "Insira a nota 11: 1\n",
            "Valor registrado\n",
            "Insira a nota 12: 2\n",
            "Valor registrado\n",
            "Insira a nota 13: 3\n",
            "Valor registrado\n",
            "Insira a nota 14: -1\n",
            "Valor inválido\n",
            "Insira a nota 14: 6\n",
            "Valor inválido\n",
            "Insira a nota 14: 5\n",
            "Valor registrado\n",
            "Insira a nota 15: 2\n",
            "Valor registrado\n"
          ]
        }
      ],
      "source": [
        "for i in range(15):\n",
        "  nota = float(input(f\"Insira a nota {i+1}: \"))\n",
        "  while (nota < 0) or (nota > 5):\n",
        "    print(\"Valor inválido\")\n",
        "    nota = float(input(f\"Insira a nota {i+1}: \"))\n",
        "  print(\"Valor registrado\")"
      ]
    },
    {
      "cell_type": "markdown",
      "metadata": {
        "id": "ABv3KObGJRdR"
      },
      "source": [
        "#### Questão 4\n",
        "Desenvolva um programa que leia um conjunto indeterminado de temperaturas em Celsius e faça uma análise. Portanto, escreva um programa que leia temperaturas e informe a média delas. A leitura deve ser encerrada ao ser enviado o valor -273°C."
      ]
    },
    {
      "cell_type": "code",
      "execution_count": null,
      "metadata": {
        "id": "85tBBj5KJRdS",
        "colab": {
          "base_uri": "https://localhost:8080/"
        },
        "outputId": "a1ca9377-8c55-4780-9768-08d333eda56b"
      },
      "outputs": [
        {
          "output_type": "stream",
          "name": "stdout",
          "text": [
            "Digite a temperatura em Celsius: 23\n",
            "Temperatura registrada!\n",
            "Digite a temperatura em Celsius: 29\n",
            "Temperatura registrada!\n",
            "Digite a temperatura em Celsius: 40\n",
            "Temperatura registrada!\n",
            "Digite a temperatura em Celsius: 16\n",
            "Temperatura registrada!\n",
            "Digite a temperatura em Celsius: 8\n",
            "Temperatura registrada!\n",
            "Digite a temperatura em Celsius: -273\n",
            "A média das temperaturas é: 23.20\n"
          ]
        }
      ],
      "source": [
        "temperatura = float(input(\"Digite a temperatura em Celsius: \"))\n",
        "contador = 0\n",
        "soma = 0\n",
        "\n",
        "while temperatura != -273:\n",
        "  contador += 1\n",
        "  soma += temperatura\n",
        "  print(\"Temperatura registrada!\")\n",
        "  temperatura = float(input(\"Digite a temperatura em Celsius: \"))\n",
        "\n",
        "media = soma / contador\n",
        "print(f\"A média das temperaturas é: {media:.2f}\")"
      ]
    },
    {
      "cell_type": "markdown",
      "metadata": {
        "id": "IjkbAfGcJRdS"
      },
      "source": [
        "#### Questão 5\n",
        "Escreva um programa que calcule o fatorial de um número inteiro fornecido pela pessoa usuária. O fatorial de um número inteiro é a multiplicação desse número por todos os seus antecessores até o número 1. Por exemplo, o fatorial de 5 é 5 x 4 x 3 x 2 x 1 = 120."
      ]
    },
    {
      "cell_type": "code",
      "execution_count": null,
      "metadata": {
        "id": "7RTH8o0HJRdS",
        "colab": {
          "base_uri": "https://localhost:8080/"
        },
        "outputId": "eab83adf-87df-419a-b301-ca95e3a43547"
      },
      "outputs": [
        {
          "output_type": "stream",
          "name": "stdout",
          "text": [
            "Informe um número inteiro: 4\n",
            "Fatorial de 4 é 24\n"
          ]
        }
      ],
      "source": [
        "num = int(input('Informe um número inteiro: '))\n",
        "\n",
        "fatorial = 1\n",
        "\n",
        "i = num\n",
        "while i > 0:\n",
        "    fatorial *= i\n",
        "    i -= 1\n",
        "\n",
        "print(f'Fatorial de {num} é {fatorial}')"
      ]
    },
    {
      "cell_type": "markdown",
      "metadata": {
        "id": "oGNKuQjsJRdT"
      },
      "source": [
        "### Momento dos projetos"
      ]
    },
    {
      "cell_type": "markdown",
      "metadata": {
        "id": "ODxaTUYmJRdS"
      },
      "source": [
        "#### Questão 6\n",
        "Escreva um programa que gere a tabuada de um número inteiro de 1 a 10, de acordo com a escolha da pessoa usuária. Como exemplo, para o número 2, a tabuada deve ser mostrada no seguinte formato:\n",
        "```\n",
        "Tabuada do 2:\n",
        "2 x 1 = 2\n",
        "2 x 2 = 4\n",
        "[...]\n",
        "2 x 10 = 20\n",
        "```"
      ]
    },
    {
      "cell_type": "code",
      "execution_count": null,
      "metadata": {
        "id": "lkTlbxPIJRdS",
        "colab": {
          "base_uri": "https://localhost:8080/"
        },
        "outputId": "129663c7-da6d-451b-c5cb-8f76bd084caa"
      },
      "outputs": [
        {
          "output_type": "stream",
          "name": "stdout",
          "text": [
            "Tabuada: 2\n",
            "Tabuada do 2\n",
            "2 x 1 = 2\n",
            "2 x 2 = 4\n",
            "2 x 3 = 6\n",
            "2 x 4 = 8\n",
            "2 x 5 = 10\n",
            "2 x 6 = 12\n",
            "2 x 7 = 14\n",
            "2 x 8 = 16\n",
            "2 x 9 = 18\n",
            "2 x 10 = 20\n"
          ]
        }
      ],
      "source": [
        "numero = int(input(\"Tabuada: \"))\n",
        "print(f\"Tabuada do {numero}\")\n",
        "for i in range(1, 11):\n",
        "  resultado = numero * i\n",
        "  print(f\"{numero} x {i} = {resultado}\")"
      ]
    },
    {
      "cell_type": "markdown",
      "metadata": {
        "id": "LeIbnt8VJRdS"
      },
      "source": [
        "#### Questão 7\n",
        "Os números primos possuem várias aplicações dentro da Ciência de Dados, por exemplo, na criptografia e segurança. Um número primo é aquele que é divisível apenas por um e por ele mesmo. Faça um programa que peça um número inteiro e determine se ele é ou não um número primo."
      ]
    },
    {
      "cell_type": "code",
      "execution_count": null,
      "metadata": {
        "id": "2rcNU7twJRdS",
        "colab": {
          "base_uri": "https://localhost:8080/"
        },
        "outputId": "8614da99-07fa-4ba8-957d-5320f2639c07"
      },
      "outputs": [
        {
          "output_type": "stream",
          "name": "stdout",
          "text": [
            "Digite um número: 4\n",
            "O número 4 não é primo\n"
          ]
        }
      ],
      "source": [
        "numero = int(input(\"Digite um número: \"))\n",
        "numero_primo = True\n",
        "\n",
        "if numero <= 1:\n",
        "  numero_primo = False\n",
        "else:\n",
        "  for i in range(2, numero):\n",
        "    if numero % i == 0:\n",
        "      numero_primo = False\n",
        "      break\n",
        "if numero_primo:\n",
        "  print(f\"O número {numero} é primo\")\n",
        "else:\n",
        "  print(f\"O número {numero} não é primo\")"
      ]
    },
    {
      "cell_type": "markdown",
      "metadata": {
        "id": "QTwb6QaCJRdT"
      },
      "source": [
        "#### Questão 8\n",
        "Vamos entender a distribuição de idades de pensionistas de uma empresa de previdência. Escreva um programa que leia as idades de uma quantidade não informada de clientes e mostre a distribuição em intervalos de [0-25], [26-50], [51-75] e [76-100]. Encerre a entrada de dados com um número negativo."
      ]
    },
    {
      "cell_type": "code",
      "execution_count": null,
      "metadata": {
        "id": "4IAhaDmYJRdT",
        "colab": {
          "base_uri": "https://localhost:8080/"
        },
        "outputId": "af7d9080-7aaf-4666-e28d-9519a8dadc28"
      },
      "outputs": [
        {
          "output_type": "stream",
          "name": "stdout",
          "text": [
            "Digite a idade: 0\n",
            "Digite a idade ou um número negativo para encerrar: 25\n",
            "Digite a idade ou um número negativo para encerrar: 26\n",
            "Digite a idade ou um número negativo para encerrar: 50\n",
            "Digite a idade ou um número negativo para encerrar: 51\n",
            "Digite a idade ou um número negativo para encerrar: 75\n",
            "Digite a idade ou um número negativo para encerrar: 76\n",
            "Digite a idade ou um número negativo para encerrar: 100\n",
            "Digite a idade ou um número negativo para encerrar: 101\n",
            "Valor inválido\n",
            "Digite a idade ou um número negativo para encerrar: -1\n",
            "[0-25]: 2\n",
            "[26-50]: 2\n",
            "[51-75]: 2\n",
            "[76-100]: 2\n"
          ]
        }
      ],
      "source": [
        "idade = int(input(\"Digite a idade: \"))\n",
        "\n",
        "contador_0_25 = 0\n",
        "contador_26_50 = 0\n",
        "contador_51_75 = 0\n",
        "contador_76_100 = 0\n",
        "\n",
        "while idade >= 0:\n",
        "  if (idade >= 0) and (idade <= 25):\n",
        "    contador_0_25 += 1\n",
        "  elif (idade >= 26) and (idade <= 50):\n",
        "    contador_26_50 += 1\n",
        "  elif (idade >= 51) and (idade <= 75):\n",
        "    contador_51_75 += 1\n",
        "  elif (idade >= 76) and (idade <= 100):\n",
        "    contador_76_100 += 1\n",
        "  else:\n",
        "    print(\"Valor inválido\")\n",
        "  idade = int(input(\"Digite a idade ou um número negativo para encerrar: \"))\n",
        "print(f\"[0-25]: {contador_0_25}\")\n",
        "print(f\"[26-50]: {contador_26_50}\")\n",
        "print(f\"[51-75]: {contador_51_75}\")\n",
        "print(f\"[76-100]: {contador_76_100}\")"
      ]
    },
    {
      "cell_type": "markdown",
      "metadata": {
        "id": "soJCQVwRJRdT"
      },
      "source": [
        "#### Questão 9\n",
        "Em uma eleição para gerência em uma empresa com 20 funcionários, existem quatro candidatos. Escreva um programa que calcule o vencedor da eleição. A votação ocorreu da seguinte maneira:\n",
        "- Cada funcionário votou em um dos quatro candidatos (representados pelos números 1, 2, 3 e 4).\n",
        "- Também foram contabilizados os votos nulos (representado pelo número 5) e os votos em branco (representado pelo número 6).\n",
        "\n",
        "Ao final da votação, o programa deve exibir o total de votos para cada candidato, o número de votos nulos e o número de votos em branco. Além disso, deve calcular e exibir a porcentagem de votos nulos em relação ao total de votos e a porcentagem de votos em branco em relação ao total de votos."
      ]
    },
    {
      "cell_type": "code",
      "execution_count": null,
      "metadata": {
        "id": "041EFrgG-4gR",
        "colab": {
          "base_uri": "https://localhost:8080/"
        },
        "outputId": "b7c076ca-d541-40c1-b213-92c51ad30b6e"
      },
      "outputs": [
        {
          "output_type": "stream",
          "name": "stdout",
          "text": [
            "Digite seu voto: 2\n",
            "Digite seu voto: 3\n",
            "Digite seu voto: 6\n",
            "Digite seu voto: 5\n",
            "Digite seu voto: 4\n",
            "Digite seu voto: 1\n",
            "Digite seu voto: 6\n",
            "Digite seu voto: 2\n",
            "Digite seu voto: 5\n",
            "Digite seu voto: 4\n",
            "Digite seu voto: 0\n",
            "Voto inválido\n",
            "Digite seu voto: 5\n",
            "Digite seu voto: 3\n",
            "Digite seu voto: 2\n",
            "Digite seu voto: 3\n",
            "Digite seu voto: 5\n",
            "Digite seu voto: 4\n",
            "Digite seu voto: 6\n",
            "Digite seu voto: 2\n",
            "Digite seu voto: 1\n",
            "Digite seu voto: 6\n",
            "Votos candidato 1: 2\n",
            "Votos candidato 2: 4\n",
            "Votos candidato 3: 3\n",
            "Votos candidato 4: 3\n",
            "Votos nulos: 4\n",
            "Votos em branco: 4\n",
            "Percentual de votos nulos: 20.00%\n",
            "Percentual de votos em branco: 20.00%\n",
            "O vencedor é o candidato 2\n"
          ]
        }
      ],
      "source": [
        "votos_candidato1 = votos_candidato2 = votos_candidato3 = votos_candidato4 = votos_nulos = votos_branco = 0\n",
        "\n",
        "for i in range(20):\n",
        "    while True:\n",
        "        voto = int(input(\"Digite seu voto: \"))\n",
        "        if 1 <= voto <= 6:\n",
        "            break\n",
        "        print(\"Voto inválido\")\n",
        "\n",
        "    if voto == 1:\n",
        "        votos_candidato1 += 1\n",
        "    elif voto == 2:\n",
        "        votos_candidato2 += 1\n",
        "    elif voto == 3:\n",
        "        votos_candidato3 += 1\n",
        "    elif voto == 4:\n",
        "        votos_candidato4 += 1\n",
        "    elif voto == 5:\n",
        "        votos_nulos += 1\n",
        "    else:\n",
        "        votos_branco += 1\n",
        "\n",
        "total_votos = 20\n",
        "print(f\"Votos candidato 1: {votos_candidato1}\")\n",
        "print(f\"Votos candidato 2: {votos_candidato2}\")\n",
        "print(f\"Votos candidato 3: {votos_candidato3}\")\n",
        "print(f\"Votos candidato 4: {votos_candidato4}\")\n",
        "print(f\"Votos nulos: {votos_nulos}\")\n",
        "print(f\"Votos em branco: {votos_branco}\")\n",
        "print(f\"Percentual de votos nulos: {(votos_nulos / total_votos * 100):.2f}%\")\n",
        "print(f\"Percentual de votos em branco: {(votos_branco / total_votos * 100):.2f}%\")\n",
        "\n",
        "vencedor = max(votos_candidato1, votos_candidato2, votos_candidato3, votos_candidato4)\n",
        "if vencedor == votos_candidato1:\n",
        "    print(\"O vencedor é o candidato 1\")\n",
        "elif vencedor == votos_candidato2:\n",
        "    print(\"O vencedor é o candidato 2\")\n",
        "elif vencedor == votos_candidato3:\n",
        "    print(\"O vencedor é o candidato 3\")\n",
        "else:\n",
        "    print(\"O vencedor é o candidato 4\")"
      ]
    },
    {
      "cell_type": "markdown",
      "metadata": {
        "id": "eijHQiNU2IZ7"
      },
      "source": [
        "## Aula 5 - Estruturas de dados"
      ]
    },
    {
      "cell_type": "markdown",
      "metadata": {
        "id": "92F0bKtBMgd7"
      },
      "source": [
        "### Aquecendo na programação"
      ]
    },
    {
      "cell_type": "markdown",
      "metadata": {
        "id": "IypX2ANuMgeC"
      },
      "source": [
        "#### Questão 1\n",
        "Faça um programa que tenha a seguinte lista contendo os valores de gastos de uma empresa de papel `[2172.54, 3701.35, 3518.09, 3456.61, 3249.38, 2840.82, 3891.45, 3075.26, 2317.64, 3219.08]`. Com esses valores, faça um programa que calcule a média de gastos. Dica, use as funções built-in [`sum()`](https://docs.python.org/3/library/functions.html#sum) e [`len()`](https://docs.python.org/3/library/functions.html#len)."
      ]
    },
    {
      "cell_type": "code",
      "execution_count": null,
      "metadata": {
        "id": "ge3LuFhLMgeD",
        "colab": {
          "base_uri": "https://localhost:8080/"
        },
        "outputId": "31a8b7ad-84cf-40e3-fc0d-1573f5500bab"
      },
      "outputs": [
        {
          "output_type": "stream",
          "name": "stdout",
          "text": [
            "A média de gastos foi: R$ 3144.22\n"
          ]
        }
      ],
      "source": [
        "gastos = [2172.54, 3701.35, 3518.09, 3456.61, 3249.38, 2840.82, 3891.45, 3075.26, 2317.64, 3219.08]\n",
        "media_gastos = sum(gastos) / len(gastos)\n",
        "print(f\"A média de gastos foi: R$ {media_gastos:.2f}\")"
      ]
    },
    {
      "cell_type": "markdown",
      "metadata": {
        "id": "xrOeLhQkMgeD"
      },
      "source": [
        "#### Questão 2\n",
        " Com os mesmos dados da questão anterior, defina quantas compras foram acima de 3000 reais e calcule a porcentagem quanto ao total de compras."
      ]
    },
    {
      "cell_type": "code",
      "execution_count": null,
      "metadata": {
        "id": "Ygu5TMZyMgeD",
        "colab": {
          "base_uri": "https://localhost:8080/"
        },
        "outputId": "13aef922-4f13-4133-9f77-d8c664f13e1a"
      },
      "outputs": [
        {
          "output_type": "stream",
          "name": "stdout",
          "text": [
            "Tiveram 7 comprar acima de 3000 reais\n",
            "70.0% dos gastos foram acima de 3000 reias\n"
          ]
        }
      ],
      "source": [
        "acima_3000 = 0\n",
        "\n",
        "for i in gastos:\n",
        "  if i > 3000:\n",
        "    acima_3000 += 1\n",
        "\n",
        "porcentagem = 100 * acima_3000 / len(gastos)\n",
        "\n",
        "print(f\"Tiveram {acima_3000} comprar acima de 3000 reais\")\n",
        "print(f\"{porcentagem}% dos gastos foram acima de 3000 reias\")"
      ]
    },
    {
      "cell_type": "markdown",
      "metadata": {
        "id": "JgCOrE_BMgeD"
      },
      "source": [
        "#### Questão 3\n",
        "Faça um código que colete em uma lista 5 números inteiros quaisquer e imprima a lista. Exemplo: `[1,4,7,2,4]`."
      ]
    },
    {
      "cell_type": "code",
      "execution_count": null,
      "metadata": {
        "id": "vtM9O1hLMgeD",
        "colab": {
          "base_uri": "https://localhost:8080/"
        },
        "outputId": "a1291e01-411b-4251-8e69-4994ba25883a"
      },
      "outputs": [
        {
          "output_type": "stream",
          "name": "stdout",
          "text": [
            "Digite o número inteiro: 1\n",
            "Digite o número inteiro: 2\n",
            "Digite o número inteiro: 3\n",
            "Digite o número inteiro: 4\n",
            "Digite o número inteiro: 5\n",
            "Lista de números inseridos: [1, 2, 3, 4, 5]\n"
          ]
        }
      ],
      "source": [
        "lista = []\n",
        "\n",
        "for i in range(0, 5):\n",
        "  numero = int(input(\"Digite o número inteiro: \"))\n",
        "  lista.append(numero)\n",
        "\n",
        "print(f\"Lista de números inseridos: {lista}\")"
      ]
    },
    {
      "cell_type": "markdown",
      "metadata": {
        "id": "p3bTp88HMgeD"
      },
      "source": [
        "#### Questão 4\n",
        "Colete novamente 5 inteiros e imprima a lista em ordem inversa à enviada."
      ]
    },
    {
      "cell_type": "code",
      "execution_count": null,
      "metadata": {
        "id": "-CGwMIyHMgeD",
        "colab": {
          "base_uri": "https://localhost:8080/"
        },
        "outputId": "fd5219e0-27db-4ff0-9a4e-e1c91161ce2a"
      },
      "outputs": [
        {
          "output_type": "stream",
          "name": "stdout",
          "text": [
            "Digite o número inteiro: 1\n",
            "Digite o número inteiro: 2\n",
            "Digite o número inteiro: 3\n",
            "Digite o número inteiro: 4\n",
            "Digite o número inteiro: 5\n",
            "Lista de números inseridos com a ordem inversa: [5, 4, 3, 2, 1]\n"
          ]
        }
      ],
      "source": [
        "lista = []\n",
        "\n",
        "for i in range(0, 5):\n",
        "  numero = int(input(\"Digite o número inteiro: \"))\n",
        "  lista.append(numero)\n",
        "\n",
        "print(f\"Lista de números inseridos com a ordem inversa: {lista[::-1]}\")"
      ]
    },
    {
      "cell_type": "markdown",
      "metadata": {
        "id": "eIXd_z1lMgeD"
      },
      "source": [
        "#### Questão 5\n",
        "Faça um programa que, ao inserir um número qualquer, criará uma lista contendo todos os números primos entre 1 e o número digitado."
      ]
    },
    {
      "cell_type": "code",
      "execution_count": null,
      "metadata": {
        "id": "rj_6GHstMgeE",
        "colab": {
          "base_uri": "https://localhost:8080/"
        },
        "outputId": "17742d04-60fe-48eb-c955-f872584b7730"
      },
      "outputs": [
        {
          "output_type": "stream",
          "name": "stdout",
          "text": [
            "Digite um número: 11\n",
            "Lista dos números primos: [2, 3, 4, 5, 7]\n"
          ]
        }
      ],
      "source": [
        "numero = int(input(\"Digite um número: \"))\n",
        "\n",
        "lista_primos = []\n",
        "\n",
        "if numero > 1:\n",
        "    lista_primos.append(2)\n",
        "\n",
        "for num in range(3, numero):\n",
        "    primo = True\n",
        "    for i in range(3, num):\n",
        "        if num % i == 0:\n",
        "            primo = False\n",
        "            break\n",
        "    if primo:\n",
        "        lista_primos.append(num)\n",
        "\n",
        "print(f\"Lista dos números primos: {lista_primos}\")"
      ]
    },
    {
      "cell_type": "markdown",
      "metadata": {
        "id": "zrbz3ENlMgeE"
      },
      "source": [
        "#### Questão 6\n",
        "Escreva um programa que peça uma data informando o dia, mês e ano e determine se ela é uma data válida para uma análise."
      ]
    },
    {
      "cell_type": "code",
      "execution_count": null,
      "metadata": {
        "id": "0eYA8UjTMgeE",
        "colab": {
          "base_uri": "https://localhost:8080/"
        },
        "outputId": "44930fd1-d8af-4c12-b590-e431efae1db7"
      },
      "outputs": [
        {
          "output_type": "stream",
          "name": "stdout",
          "text": [
            "Digite o dia: 31\n",
            "Digite o mês: 4\n",
            "Digite o ano: 2024\n",
            "Data inválida\n"
          ]
        }
      ],
      "source": [
        "dia = int(input(\"Digite o dia: \"))\n",
        "mes = int(input(\"Digite o mês: \"))\n",
        "ano = int(input(\"Digite o ano: \"))\n",
        "\n",
        "if mes == 2:\n",
        "  if ano % 4 == 0 and (ano % 100 != 100 or ano % 400 == 0):\n",
        "    dias_fevereiro = 29\n",
        "  else:\n",
        "   dia_fevereiro = 28\n",
        "  if (dia >= 1) and (dia <= dias_fevereiro):\n",
        "    print('Data válida')\n",
        "  else:\n",
        "    print('Data inválida')\n",
        "elif mes in [1, 3, 5, 7, 8, 10, 12]:\n",
        "  if (dia >= 1) and (dia <= 31):\n",
        "    print('Data válida')\n",
        "  else:\n",
        "    print('Data inválida')\n",
        "elif mes in [4, 6, 9, 11]:\n",
        "  if (dia >= 1) and (dia <= 30):\n",
        "    print('Data válida')\n",
        "  else:\n",
        "    print('Data inválida')\n",
        "else:\n",
        "  print(\"Data inválida\")"
      ]
    },
    {
      "cell_type": "markdown",
      "metadata": {
        "id": "ut_4VHdGMgeE"
      },
      "source": [
        "### Momento dos projetos"
      ]
    },
    {
      "cell_type": "markdown",
      "metadata": {
        "id": "G86Z0vD_MgeE"
      },
      "source": [
        "#### Questão 7\n",
        "Para um estudo envolvendo o nível de multiplicação de bactérias em uma colônia, foi coletado o número de bactérias multiplicadas por dia, com base em um processo de duplicação diária e pode ser observado a seguir: `[1.2, 2.1, 3.3, 5.0, 7.8, 11.3, 16.6, 25.1, 37.8, 56.9]`. Tendo esses valores, faça um código que gere uma lista contendo o percentual de crescimento de bactérias por dia, comparando o número de bactérias em cada dia com o número de bactérias do dia anterior. Dica: para calcular o percentual de crescimento usamos a seguinte equação: `100 * (amostra_atual - amostra_passada) / (amostra_passada)`."
      ]
    },
    {
      "cell_type": "code",
      "execution_count": null,
      "metadata": {
        "id": "PXNO_CFkMgeE",
        "colab": {
          "base_uri": "https://localhost:8080/"
        },
        "outputId": "0f501720-8ce9-425e-ab40-63e8dfd9e786"
      },
      "outputs": [
        {
          "output_type": "stream",
          "name": "stdout",
          "text": [
            "Lista de porcentagem de crescimento: [75.0, 57.14, 51.52, 56.0, 44.87, 46.9, 51.2, 50.6, 50.53]\n"
          ]
        }
      ],
      "source": [
        "colonia_crescimento = [1.2, 2.1, 3.3, 5.0, 7.8, 11.3, 16.6, 25.1, 37.8, 56.9]\n",
        "porcentagem_crescimento = []\n",
        "\n",
        "for i in range(1, len(colonia_crescimento)):\n",
        "  porcentagem = 100 * ( colonia_crescimento[i] - colonia_crescimento[i - 1]) / (colonia_crescimento[i - 1])\n",
        "\n",
        "  porcentagem_crescimento.append(porcentagem)\n",
        "\n",
        "print(f\"Lista de porcentagem de crescimento: {[round(p, 2) for p in porcentagem_crescimento]}\")"
      ]
    },
    {
      "cell_type": "markdown",
      "metadata": {
        "id": "p4nxogpnMgeE"
      },
      "source": [
        "#### Questão 8\n",
        "Para uma seleção de produtos alimentícios, precisamos separar o conjunto de IDs dados por números inteiros, sabendo que os produtos com ID par são doces e os com ID ímpar são amargos. Monte um código que colete 10 IDs. Depois, calcule e mostre a quantidade de produtos doces e amargos."
      ]
    },
    {
      "cell_type": "code",
      "execution_count": null,
      "metadata": {
        "id": "WqjO2SZkMgeE",
        "colab": {
          "base_uri": "https://localhost:8080/"
        },
        "outputId": "9af41dbd-b37f-44a3-a0d8-fea1e40c5e1d"
      },
      "outputs": [
        {
          "output_type": "stream",
          "name": "stdout",
          "text": [
            "Insira o id do produto: 51\n",
            "Insira o id do produto: 23\n",
            "Insira o id do produto: 51\n",
            "Insira o id do produto: 23\n",
            "Insira o id do produto: 2\n",
            "Insira o id do produto: 4\n",
            "Insira o id do produto: 6\n",
            "Insira o id do produto: 8\n",
            "Insira o id do produto: 9\n",
            "Insira o id do produto: 10\n",
            "[51, 23, 51, 23, 2, 4, 6, 8, 9, 10]\n",
            "Total de doces: 5\n",
            "Total de amargo: 5\n"
          ]
        }
      ],
      "source": [
        "ids = []\n",
        "doce = 0\n",
        "amargo = 0\n",
        "\n",
        "for i in range(10):\n",
        "  ids.append(int(input(\"Insira o id do produto: \")))\n",
        "\n",
        "for i in ids:\n",
        "  if i % 2 == 0:\n",
        "    doce += 1\n",
        "  else:\n",
        "    amargo += 1\n",
        "\n",
        "print(ids)\n",
        "print(f\"Total de doces: {doce}\")\n",
        "print(f\"Total de amargo: {amargo}\")"
      ]
    },
    {
      "cell_type": "markdown",
      "metadata": {
        "id": "t5OrLxV6MgeE"
      },
      "source": [
        "#### Questão 9\n",
        "Desenvolva um programa que informa a nota de um aluno de acordo com suas respostas. Ele deve pedir a resposta de um aluno para cada questão e é preciso verificar se a resposta foi igual ao gabarito. Cada questão vale um ponto e existem alternativas:  A, B, C ou D.\n",
        "```\n",
        "Gabarito da Prova:\n",
        "01 - D\n",
        "02 - A\n",
        "03 - C\n",
        "04 - B\n",
        "05 - A\n",
        "06 - D\n",
        "07 - C\n",
        "08 - C\n",
        "09 - A\n",
        "10 - B\n",
        "```"
      ]
    },
    {
      "cell_type": "code",
      "execution_count": null,
      "metadata": {
        "id": "ytIQDJrQMgeE",
        "colab": {
          "base_uri": "https://localhost:8080/"
        },
        "outputId": "78134888-c7da-4769-f97f-785f7df69f21"
      },
      "outputs": [
        {
          "output_type": "stream",
          "name": "stdout",
          "text": [
            "Insira a resposta da questão 1: d\n",
            "Insira a resposta da questão 2: a\n",
            "Insira a resposta da questão 3: c\n",
            "Insira a resposta da questão 4: b\n",
            "Insira a resposta da questão 5: a\n",
            "Insira a resposta da questão 6: d\n",
            "Insira a resposta da questão 7: c\n",
            "Insira a resposta da questão 8: c\n",
            "Insira a resposta da questão 9: a\n",
            "Insira a resposta da questão 10: b\n",
            "\n",
            "Gabarito: ['D', 'A', 'C', 'B', 'A', 'D', 'C', 'C', 'A', 'B']\n",
            "Resposta do aluno: ['D', 'A', 'C', 'B', 'A', 'D', 'C', 'C', 'A', 'B']\n",
            "Nota: 10\n"
          ]
        }
      ],
      "source": [
        "gabarito = ['D', 'A', 'C', 'B', 'A', 'D', 'C', 'C', 'A', 'B']\n",
        "nota = 0\n",
        "respostas = []\n",
        "\n",
        "for i in range(0, 10):\n",
        "  respostas.append(input(f'Insira a resposta da questão {i + 1}: ').upper())\n",
        "\n",
        "for i in range(0, 10):\n",
        "  if respostas[i] == gabarito[i]:\n",
        "    nota += 1\n",
        "\n",
        "print(f\"\\nGabarito: {gabarito}\")\n",
        "print(f\"Resposta do aluno: {respostas}\")\n",
        "print(f\"Nota: {nota}\")"
      ]
    },
    {
      "cell_type": "markdown",
      "metadata": {
        "id": "aSBMzh-AMgeF"
      },
      "source": [
        "#### Questão 10\n",
        "Um instituto de meteorologia deseja fazer um estudo de temperatura média de cada mês do ano. Para isso, você precisa fazer um código que colete e armazene essas temperaturas médias em uma lista. Depois, calcule a média anual das temperaturas e mostre todas as temperaturas acima da média anual, e em que mês elas ocorreram, mostrando os meses por extenso: Janeiro, Fevereiro, etc."
      ]
    },
    {
      "cell_type": "code",
      "execution_count": null,
      "metadata": {
        "id": "ftj04s2uMgeF",
        "colab": {
          "base_uri": "https://localhost:8080/"
        },
        "outputId": "25b75bbc-e399-4038-fa9e-fe85cd299dc9"
      },
      "outputs": [
        {
          "output_type": "stream",
          "name": "stdout",
          "text": [
            "Digite a média de temperatura do mês 1: 21\n",
            "Digite a média de temperatura do mês 2: 25\n",
            "Digite a média de temperatura do mês 3: 30\n",
            "Digite a média de temperatura do mês 4: 40\n",
            "Digite a média de temperatura do mês 5: 19\n",
            "Digite a média de temperatura do mês 6: 36\n",
            "Digite a média de temperatura do mês 7: 38\n",
            "Digite a média de temperatura do mês 8: 39\n",
            "Digite a média de temperatura do mês 9: 41\n",
            "Digite a média de temperatura do mês 10: 34\n",
            "Digite a média de temperatura do mês 11: 35\n",
            "Digite a média de temperatura do mês 12: 43\n",
            "\n",
            "Temperatura média de cada mês do ano: [21.0, 25.0, 30.0, 40.0, 19.0, 36.0, 38.0, 39.0, 41.0, 34.0, 35.0, 43.0]\n",
            "Média do ano: 33.42\n",
            "Mêses que foram acima da média: ['Abril', 'Junho', 'Julho', 'Agosto', 'Setembro', 'Outubro', 'Novembro', 'Dezembro']\n"
          ]
        }
      ],
      "source": [
        "temperaturas_mensais = []\n",
        "meses = ['Janeiro', 'Fevereiro', 'Março', 'Abril', 'Maio', 'Junho', 'Julho', 'Agosto', 'Setembro', 'Outubro', 'Novembro', 'Dezembro']\n",
        "acima_da_media = []\n",
        "\n",
        "for i in range(0, 12):\n",
        "  temperaturas_mensais.append(float(input(f\"Digite a média de temperatura do mês {i + 1}: \")))\n",
        "\n",
        "media = sum(temperaturas_mensais) / len(temperaturas_mensais)\n",
        "\n",
        "for i in range(0, 12):\n",
        "  if temperaturas_mensais[i] > media:\n",
        "    acima_da_media.append(meses[i])\n",
        "\n",
        "print(f\"\\nTemperatura média de cada mês do ano: {temperaturas_mensais}\")\n",
        "print(f\"Média do ano: {media:.2f}\")\n",
        "print(f\"Mêses que foram acima da média: {acima_da_media}\")"
      ]
    },
    {
      "cell_type": "markdown",
      "metadata": {
        "id": "0X8S6s4jMgeF"
      },
      "source": [
        "#### Questão 11\n",
        "Uma empresa de e-commerce está interessada em analisar as vendas dos seus produtos. Os dados das vendas foram armazenados em um dicionário:\n",
        "```\n",
        "{'Produto A': 300, 'Produto B': 80, 'Produto C': 60,\n",
        " 'Produto D': 200, 'Produto E': 250, 'Produto F': 30}\n",
        "```\n",
        "Escreva um código que calcule o total de vendas e o produto mais vendido."
      ]
    },
    {
      "cell_type": "code",
      "execution_count": null,
      "metadata": {
        "id": "Xa3DJLtFMgeF",
        "colab": {
          "base_uri": "https://localhost:8080/"
        },
        "outputId": "8ba8d580-70d8-4ec5-f3ad-cbf49161601d"
      },
      "outputs": [
        {
          "output_type": "stream",
          "name": "stdout",
          "text": [
            "Total de vendas: 920\n",
            "Produto mais vendida foi o Produto A com 300 vendas\n"
          ]
        }
      ],
      "source": [
        "dados_vendas = {'Produto A': 300, 'Produto B': 80, 'Produto C': 60, 'Produto D': 200, 'Produto E': 250, 'Produto F': 30}\n",
        "total_vendas = 0\n",
        "produto_mais_vendido = \"\"\n",
        "unidade_produto_mais_vendido = 0\n",
        "\n",
        "for i in dados_vendas.keys():\n",
        "  total_vendas += dados_vendas[i]\n",
        "\n",
        "  if dados_vendas[i] > unidade_produto_mais_vendido:\n",
        "    unidade_produto_mais_vendido = dados_vendas[i]\n",
        "    produto_mais_vendido = i\n",
        "\n",
        "print(f\"Total de vendas: {total_vendas}\")\n",
        "print(f\"Produto mais vendida foi o {produto_mais_vendido} com {unidade_produto_mais_vendido} vendas\")"
      ]
    },
    {
      "cell_type": "markdown",
      "metadata": {
        "id": "nrEwf_1ZMgeF"
      },
      "source": [
        "#### Questão 12\n",
        "Uma pesquisa de mercado foi feita para decidir qual design de uma marca infantil mais agrada crianças. A pesquisa foi feita e o votos computados podem ser observados abaixo:\n",
        "```\n",
        "'''\n",
        "Tabela de votos da marca\n",
        "Design 1 - 1334 votos\n",
        "Design 2 - 982 votos\n",
        "Design 3 - 1751 votos\n",
        "Design 4 - 210 votos\n",
        "Design 5 - 1811 votos\n",
        "'''\n",
        "```\n",
        "Adapte os dados fornecidos a você para uma estrutura de dicionário e a partir dele, informe o design vencedor e a porcentagem de votos recebidos.\n"
      ]
    },
    {
      "cell_type": "code",
      "execution_count": null,
      "metadata": {
        "id": "MRPcGR-_MgeF",
        "colab": {
          "base_uri": "https://localhost:8080/"
        },
        "outputId": "736aafe9-15b1-49b0-c31e-9f1c6730e8f7"
      },
      "outputs": [
        {
          "output_type": "stream",
          "name": "stdout",
          "text": [
            "Vencedor: Design 5 com 29.75 % dos votos\n"
          ]
        }
      ],
      "source": [
        "dados_votacao = {'Design 1': 1334, 'Design 2': 982, 'Design 3': 1751, 'Design 4': 210, 'Design 5': 1811}\n",
        "total_votos = 0\n",
        "vencedor_votos = 0\n",
        "vencedor = ''\n",
        "\n",
        "for i in dados_votacao.keys():\n",
        "  total_votos += dados_votacao[i]\n",
        "\n",
        "  if dados_votacao[i] > vencedor_votos:\n",
        "    vencedor_votos = dados_votacao[i]\n",
        "    vencedor = i\n",
        "\n",
        "porcentagem = 100 * (vencedor_votos) / (total_votos)\n",
        "print(f\"Vencedor: {vencedor} com {porcentagem:.2f} % dos votos\")\n"
      ]
    },
    {
      "cell_type": "markdown",
      "metadata": {
        "id": "HRTFFzKIMgeF"
      },
      "source": [
        "#### Questão 13\n",
        "Os funcionários de um setor da empresa que você trabalha vão receber um abono correspondente a 10% do seu salário devido ao ótimo desempenho do time. O setor financeiro solicitou sua ajuda para a verificação das consequências financeiras que esse abono irá gerar nos recursos. Assim, foi encaminhada para você uma lista com os salários que receberão o abono: `[1172, 1644, 2617, 5130, 5532, 6341, 6650, 7238, 7685, 7782, 7903]`. O abono de cada funcionário não pode ser inferior a 200. Em código, transforme cada um dos salários em chaves de um dicionário e o abono de cada salário no elemento. Depois, informe o total de gastos com o abono, quantos funcionários receberam o abono mínimo e qual o maior valor de abono fornecido.\n"
      ]
    },
    {
      "cell_type": "code",
      "execution_count": null,
      "metadata": {
        "id": "QsDSCua42bLB",
        "colab": {
          "base_uri": "https://localhost:8080/"
        },
        "outputId": "c86f0057-4db9-4149-e035-f0ef644bc7ef"
      },
      "outputs": [
        {
          "output_type": "stream",
          "name": "stdout",
          "text": [
            "{1172: 200, 1644: 200, 2617: 261.7, 5130: 513.0, 5532: 553.2, 6341: 634.1, 6650: 665.0, 7238: 723.8000000000001, 7685: 768.5, 7782: 778.2, 7903: 790.3000000000001}\n",
            "Total de gastos com abono: 6087.80\n",
            "Quantidade de funcionários que receberam o abono mínimo: 2\n",
            "Maior abono: 790.30\n"
          ]
        }
      ],
      "source": [
        "salarios = [1172, 1644, 2617, 5130, 5532, 6341, 6650, 7238, 7685, 7782, 7903]\n",
        "total_gasto = 0\n",
        "quantidade_abono_minimo = 0\n",
        "maior_abono = 0\n",
        "dic_abonos  = {}\n",
        "\n",
        "for i in salarios:\n",
        "  abono = i * 0.1\n",
        "\n",
        "  if abono < 200:\n",
        "    abono = 200\n",
        "\n",
        "  dic_abonos[i] = abono\n",
        "\n",
        "for i in dic_abonos.values():\n",
        "\n",
        "  if i == 200:\n",
        "    quantidade_abono_minimo += 1\n",
        "  if i > maior_abono:\n",
        "    maior_abono = i\n",
        "  total_gasto += i\n",
        "\n",
        "print(dic_abonos)\n",
        "print(f\"Total de gastos com abono: {total_gasto:.2f}\")\n",
        "print(f\"Quantidade de funcionários que receberam o abono mínimo: {quantidade_abono_minimo}\")\n",
        "print(f\"Maior abono: {maior_abono:.2f}\")"
      ]
    },
    {
      "cell_type": "markdown",
      "metadata": {
        "id": "6dEXZEwjMlWy"
      },
      "source": [
        "#### Questão 14\n",
        "Uma equipe de cientistas de dados está estudando a diversidade biológica em uma floresta. A equipe fez a coleta de informações sobre o número de espécies de plantas e animais em cada área da floresta e armazenaram essas informações em um dicionário. Nele, a chave descreve a área dos dados e os valores nas listas correspondem às espécies de plantas e animais nas áreas, respectivamente.\n",
        "```\n",
        "{'Área Norte': [2819, 7236],\n",
        " 'Área Leste': [1440, 9492],\n",
        " 'Área Sul': [5969, 7496],\n",
        " 'Área Oeste': [14446, 49688],\n",
        " 'Área Centro': [22558, 45148]}\n",
        "```\n",
        "Escreva um código para calcular a média de espécies por área e identificar a área com a maior diversidade biológica. Dica: use as funções built-in [`sum()`](https://docs.python.org/3/library/functions.html#sum) e [`len()`](https://docs.python.org/3/library/functions.html#len).\n"
      ]
    },
    {
      "cell_type": "code",
      "execution_count": null,
      "metadata": {
        "id": "eQnOUDfYMlWy",
        "colab": {
          "base_uri": "https://localhost:8080/"
        },
        "outputId": "d9de4081-ee9c-4fb7-b3d2-3eb5c1ab3f98"
      },
      "outputs": [
        {
          "output_type": "stream",
          "name": "stdout",
          "text": [
            "A Área Norte tem a média de 5027.5 espécies\n",
            "A Área Leste tem a média de 5466.0 espécies\n",
            "A Área Sul tem a média de 6732.5 espécies\n",
            "A Área Oeste tem a média de 32067.0 espécies\n",
            "A Área Centro tem a média de 33853.0 espécies\n",
            "\n",
            "A Área Centro tem a maior diversidade\n"
          ]
        }
      ],
      "source": [
        "dados = {'Área Norte': [2819, 7236],\n",
        "        'Área Leste': [1440, 9492],\n",
        "        'Área Sul': [5969, 7496],\n",
        "        'Área Oeste': [14446, 49688],\n",
        "        'Área Centro': [22558, 45148]\n",
        "        }\n",
        "\n",
        "maior_diversidade = 0\n",
        "area_maior_diversidade = \"\"\n",
        "\n",
        "for area, especie in dados.items():\n",
        "\n",
        "  soma_especie = sum(especie)\n",
        "  media = soma_especie / len(especie)\n",
        "  print(f\"A {area} tem a média de {media} espécies\")\n",
        "\n",
        "  if soma_especie > maior_diversidade:\n",
        "    maior_diversidade = soma_especie\n",
        "    area_maior_diversidade = area\n",
        "\n",
        "print(f\"\\nA {area_maior_diversidade} tem a maior diversidade\")"
      ]
    },
    {
      "cell_type": "markdown",
      "metadata": {
        "id": "r0RW2Sy_MlWy"
      },
      "source": [
        "#### Questão 15\n",
        "O setor de RH da sua empresa te pediu uma ajuda para analisar as idades dos funcionários de 4 setores da empresa. Para isso, ele te forneceu os seguintes dados:\n",
        "```\n",
        "{'Setor A': [22, 26, 30, 30, 35, 38, 40, 56, 57, 65],\n",
        " 'Setor B': [22, 24, 26, 33, 41, 49, 50, 54, 60, 64],\n",
        " 'Setor C': [23, 26, 26, 29, 34, 35, 36, 41, 52, 56],\n",
        " 'Setor D': [19, 20, 25, 27, 34, 39, 42, 44, 50, 65]}\n",
        "```\n",
        "Sabendo que cada setor tem 10 funcionários, construa um código que calcule a média de idade de cada setor, a idade média geral entre todos os setores e quantas pessoas estão acima da idade média geral.\n"
      ]
    },
    {
      "cell_type": "code",
      "execution_count": null,
      "metadata": {
        "id": "wCiwyKP3MmTz",
        "colab": {
          "base_uri": "https://localhost:8080/"
        },
        "outputId": "d29cc118-cea3-4469-a35e-a4d83668e7b1"
      },
      "outputs": [
        {
          "output_type": "stream",
          "name": "stdout",
          "text": [
            "Setor A tem a idade média: 39.90\n",
            "Setor B tem a idade média: 42.30\n",
            "Setor C tem a idade média: 35.80\n",
            "Setor D tem a idade média: 36.50\n",
            "A média de idade geral é 38.625\n",
            "Pessoas acima da idade média geral: 18\n"
          ]
        }
      ],
      "source": [
        "dic_idade = { 'Setor A': [22, 26, 30, 30, 35, 38, 40, 56, 57, 65],\n",
        "              'Setor B': [22, 24, 26, 33, 41, 49, 50, 54, 60, 64],\n",
        "              'Setor C': [23, 26, 26, 29, 34, 35, 36, 41, 52, 56],\n",
        "              'Setor D': [19, 20, 25, 27, 34, 39, 42, 44, 50, 65]\n",
        "             }\n",
        "total_idades = 0\n",
        "\n",
        "for setor, idade in dic_idade.items():\n",
        "  media_setor = sum(idade) / len(idade)\n",
        "  print(f\"{setor} tem a idade média: {media_setor:.2f}\")\n",
        "\n",
        "  total_idades += sum(idade)\n",
        "\n",
        "media_total = total_idades / (len(idade) * len(dic_idade))\n",
        "print(f'A média de idade geral é {media_total}')\n",
        "acima_media = 0\n",
        "\n",
        "for setor, idade in dic_idade.items():\n",
        "  for id in idade:\n",
        "    if id > media_total:\n",
        "      acima_media += 1\n",
        "\n",
        "print(f\"Pessoas acima da idade média geral: {acima_media}\")"
      ]
    }
  ],
  "metadata": {
    "colab": {
      "provenance": [],
      "include_colab_link": true
    },
    "kernelspec": {
      "display_name": "Python 3",
      "name": "python3"
    },
    "language_info": {
      "name": "python"
    }
  },
  "nbformat": 4,
  "nbformat_minor": 0
}